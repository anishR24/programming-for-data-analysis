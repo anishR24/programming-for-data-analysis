{
  "nbformat": 4,
  "nbformat_minor": 0,
  "metadata": {
    "colab": {
      "provenance": []
    },
    "kernelspec": {
      "name": "python3",
      "display_name": "Python 3"
    },
    "language_info": {
      "name": "python"
    }
  },
  "cells": [
    {
      "cell_type": "markdown",
      "source": [
        "## **Exercise 2: Data Types and Variables**"
      ],
      "metadata": {
        "id": "EEkhXCdEtI-2"
      }
    },
    {
      "cell_type": "markdown",
      "source": [
        "---\n",
        "Name - Anish Rao\n",
        "\n",
        "Student Number - 20066423\n",
        "\n",
        "Group - C\n",
        "\n",
        "---\n",
        "\n",
        "[Colab Notebook Link](https://colab.research.google.com/drive/1jaDHXdxnPFcwRa-J_bMff5OOVqfSpOyf?usp=sharing)"
      ],
      "metadata": {
        "id": "jLAcgRCptnHJ"
      }
    },
    {
      "cell_type": "markdown",
      "source": [
        "1. Create a variable `age` and assign it the value 25."
      ],
      "metadata": {
        "id": "d4kQPxohxXaR"
      }
    },
    {
      "cell_type": "code",
      "source": [
        "age = 25"
      ],
      "metadata": {
        "id": "wfP7JHrk0jnM"
      },
      "execution_count": null,
      "outputs": []
    },
    {
      "cell_type": "markdown",
      "source": [
        "2. Create a variable `name` and assign it a string containing your name."
      ],
      "metadata": {
        "id": "BnFU24oCy0EQ"
      }
    },
    {
      "cell_type": "code",
      "source": [
        "name = \"Anish Rao\""
      ],
      "metadata": {
        "id": "8o-l1D7-0wyX"
      },
      "execution_count": null,
      "outputs": []
    },
    {
      "cell_type": "markdown",
      "source": [
        "3. Print the type of the variable `age`."
      ],
      "metadata": {
        "id": "MpjcUJpWy2O_"
      }
    },
    {
      "cell_type": "code",
      "source": [
        "print(type(age))"
      ],
      "metadata": {
        "colab": {
          "base_uri": "https://localhost:8080/"
        },
        "id": "SuHV61cA3p-c",
        "outputId": "1bcbf475-36e4-4d59-912d-50a6239a7bc8"
      },
      "execution_count": null,
      "outputs": [
        {
          "output_type": "stream",
          "name": "stdout",
          "text": [
            "<class 'int'>\n"
          ]
        }
      ]
    },
    {
      "cell_type": "markdown",
      "source": [
        "4. Convert the variable `age` to a string and store it in a new variable `age_str`."
      ],
      "metadata": {
        "id": "x3cPbve-y2MG"
      }
    },
    {
      "cell_type": "code",
      "source": [
        "age_str = str(age)\n",
        "print(type(age_str))"
      ],
      "metadata": {
        "colab": {
          "base_uri": "https://localhost:8080/"
        },
        "id": "kPvs8SXp3345",
        "outputId": "342c9149-ca93-4ca9-a50a-01c90e9856c2"
      },
      "execution_count": null,
      "outputs": [
        {
          "output_type": "stream",
          "name": "stdout",
          "text": [
            "<class 'str'>\n"
          ]
        }
      ]
    },
    {
      "cell_type": "markdown",
      "source": [
        "5. Create a variable `height` and assign it the value 175.5 (floating-point number)."
      ],
      "metadata": {
        "id": "cqkgEWBCy2Iz"
      }
    },
    {
      "cell_type": "code",
      "source": [
        "height = 175.5"
      ],
      "metadata": {
        "id": "Neacy0ju4AyF"
      },
      "execution_count": null,
      "outputs": []
    },
    {
      "cell_type": "markdown",
      "source": [
        "6. Print the type of the variable `height`."
      ],
      "metadata": {
        "id": "Oqs6G4gqy2Fs"
      }
    },
    {
      "cell_type": "code",
      "source": [
        "print(type(height))"
      ],
      "metadata": {
        "colab": {
          "base_uri": "https://localhost:8080/"
        },
        "id": "WPJiAM7X4KPj",
        "outputId": "3e239910-f43a-4d5a-9d3c-ef138ed6fa9c"
      },
      "execution_count": null,
      "outputs": [
        {
          "output_type": "stream",
          "name": "stdout",
          "text": [
            "<class 'float'>\n"
          ]
        }
      ]
    },
    {
      "cell_type": "markdown",
      "source": [
        "7. Create a variable `is_student` and assign it a boolean value representing whether you\n",
        "are a student or not."
      ],
      "metadata": {
        "id": "V5-3CxJmy2Cc"
      }
    },
    {
      "cell_type": "code",
      "source": [
        "is_student = True"
      ],
      "metadata": {
        "id": "FsVUWduS4jAF"
      },
      "execution_count": null,
      "outputs": []
    },
    {
      "cell_type": "markdown",
      "source": [
        "8. Print the type of the variable `is_student`."
      ],
      "metadata": {
        "id": "WOvGv8QSy1-S"
      }
    },
    {
      "cell_type": "code",
      "source": [
        "print(type(is_student))"
      ],
      "metadata": {
        "colab": {
          "base_uri": "https://localhost:8080/"
        },
        "id": "5wwqwn37449k",
        "outputId": "8d32e867-92ca-4b8e-8700-a12dd99ba1d3"
      },
      "execution_count": null,
      "outputs": [
        {
          "output_type": "stream",
          "name": "stdout",
          "text": [
            "<class 'bool'>\n"
          ]
        }
      ]
    },
    {
      "cell_type": "markdown",
      "source": [
        "9. Create a list `colors` containing the names of three colors."
      ],
      "metadata": {
        "id": "ccVdJmY6y17s"
      }
    },
    {
      "cell_type": "code",
      "source": [
        "colors = [\"red\", \"blue\", \"green\"]"
      ],
      "metadata": {
        "id": "hwsaznmc49-8"
      },
      "execution_count": null,
      "outputs": []
    },
    {
      "cell_type": "markdown",
      "source": [
        "10. Print the second element of the list `colors`."
      ],
      "metadata": {
        "id": "6PEiU305y14s"
      }
    },
    {
      "cell_type": "code",
      "source": [
        "print(colors[1])"
      ],
      "metadata": {
        "colab": {
          "base_uri": "https://localhost:8080/"
        },
        "id": "uVl7OZuP5Cmi",
        "outputId": "6ef8e76f-de41-4ee0-b41f-13725c2bf5a9"
      },
      "execution_count": null,
      "outputs": [
        {
          "output_type": "stream",
          "name": "stdout",
          "text": [
            "blue\n"
          ]
        }
      ]
    },
    {
      "cell_type": "markdown",
      "source": [
        "11. Create a tuple `dimensions` containing the length, width, and height of a box."
      ],
      "metadata": {
        "id": "kspOdzvEy118"
      }
    },
    {
      "cell_type": "code",
      "source": [
        "dimensions = (10, 20, 15)"
      ],
      "metadata": {
        "id": "raTcq-ZJ5HYc"
      },
      "execution_count": null,
      "outputs": []
    },
    {
      "cell_type": "markdown",
      "source": [
        "12. Print the third element of the tuple `dimensions`."
      ],
      "metadata": {
        "id": "ny2arA0Yy1zW"
      }
    },
    {
      "cell_type": "code",
      "source": [
        "print(dimensions[2])"
      ],
      "metadata": {
        "colab": {
          "base_uri": "https://localhost:8080/"
        },
        "id": "eC4lc5Uc5NsS",
        "outputId": "4e55b4d5-b8ba-4e2e-b127-fe0b91d08a47"
      },
      "execution_count": null,
      "outputs": [
        {
          "output_type": "stream",
          "name": "stdout",
          "text": [
            "15\n"
          ]
        }
      ]
    },
    {
      "cell_type": "markdown",
      "source": [
        "13. Create a dictionary `person` with keys \"name\", \"age\", and \"city\", and assign appropriate\n",
        "values."
      ],
      "metadata": {
        "id": "NUApZF4Zy1wk"
      }
    },
    {
      "cell_type": "code",
      "source": [
        "person = {\"name\": \"Anish Rao\", \"age\": 25, \"city\": \"Dublin\"}"
      ],
      "metadata": {
        "id": "j4fwRamw5Srn"
      },
      "execution_count": null,
      "outputs": []
    },
    {
      "cell_type": "markdown",
      "source": [
        "14. Print the value associated with the key \"age\" in the dictionary `person`."
      ],
      "metadata": {
        "id": "cJ0-wZLky1uQ"
      }
    },
    {
      "cell_type": "code",
      "source": [
        "print(person[\"age\"])"
      ],
      "metadata": {
        "colab": {
          "base_uri": "https://localhost:8080/"
        },
        "id": "06cbMf945XYT",
        "outputId": "84b05242-2f46-4412-91b9-4da402c349cd"
      },
      "execution_count": null,
      "outputs": [
        {
          "output_type": "stream",
          "name": "stdout",
          "text": [
            "25\n"
          ]
        }
      ]
    },
    {
      "cell_type": "markdown",
      "source": [
        "15. Create a set `unique_numbers` containing three unique integers."
      ],
      "metadata": {
        "id": "ZI0Y1QJdy1rk"
      }
    },
    {
      "cell_type": "code",
      "source": [
        "unique_numbers = {1, 2, 3}"
      ],
      "metadata": {
        "id": "W9S8NMm_5cd_"
      },
      "execution_count": null,
      "outputs": []
    },
    {
      "cell_type": "markdown",
      "source": [
        "16. Add a new integer to the set `unique_numbers`."
      ],
      "metadata": {
        "id": "xtDkHEtay1o8"
      }
    },
    {
      "cell_type": "code",
      "source": [
        "unique_numbers.add(4)\n",
        "print(unique_numbers)"
      ],
      "metadata": {
        "colab": {
          "base_uri": "https://localhost:8080/"
        },
        "id": "GX6X0SEm5gtR",
        "outputId": "17c610fe-9027-4907-c2d1-189264767836"
      },
      "execution_count": null,
      "outputs": [
        {
          "output_type": "stream",
          "name": "stdout",
          "text": [
            "{1, 2, 3, 4}\n"
          ]
        }
      ]
    },
    {
      "cell_type": "markdown",
      "source": [
        "17. Create a variable `x` and assign it the value 10."
      ],
      "metadata": {
        "id": "NHXOcLw3y1mU"
      }
    },
    {
      "cell_type": "code",
      "source": [
        "x = 10"
      ],
      "metadata": {
        "id": "ppAWUVX25kZ-"
      },
      "execution_count": null,
      "outputs": []
    },
    {
      "cell_type": "markdown",
      "source": [
        "18. Increment the value of `x` by 5."
      ],
      "metadata": {
        "id": "fDzhJhgky1jl"
      }
    },
    {
      "cell_type": "code",
      "source": [
        "x += 5\n",
        "print(x)"
      ],
      "metadata": {
        "colab": {
          "base_uri": "https://localhost:8080/"
        },
        "id": "EChqTs0M5qwT",
        "outputId": "d4665231-d5df-459e-d181-35bf50fccb48"
      },
      "execution_count": null,
      "outputs": [
        {
          "output_type": "stream",
          "name": "stdout",
          "text": [
            "15\n"
          ]
        }
      ]
    },
    {
      "cell_type": "markdown",
      "source": [
        "19. Create a variable `y` and assign it the value of `x` squared."
      ],
      "metadata": {
        "id": "rDOz7QWEy1g7"
      }
    },
    {
      "cell_type": "code",
      "source": [
        "y = x ** 2\n",
        "print(y)"
      ],
      "metadata": {
        "colab": {
          "base_uri": "https://localhost:8080/"
        },
        "id": "3GpUObbv5wAI",
        "outputId": "21f5d2c2-2912-4802-b325-87d741bc134f"
      },
      "execution_count": null,
      "outputs": [
        {
          "output_type": "stream",
          "name": "stdout",
          "text": [
            "225\n"
          ]
        }
      ]
    },
    {
      "cell_type": "markdown",
      "source": [
        "20. Swap the values of variables `x` and `y`."
      ],
      "metadata": {
        "id": "sjE67TAOy1ei"
      }
    },
    {
      "cell_type": "code",
      "source": [
        "print(\"x =\", x)\n",
        "print(\"y =\", y)\n",
        "x, y = y, x\n",
        "print(\"After swapping:\")\n",
        "print(\"x =\", x)\n",
        "print(\"y =\", y)"
      ],
      "metadata": {
        "colab": {
          "base_uri": "https://localhost:8080/"
        },
        "id": "Gf5INNyO51LH",
        "outputId": "a9b76e52-7f8e-4770-f587-2f5d2cbf9de8"
      },
      "execution_count": null,
      "outputs": [
        {
          "output_type": "stream",
          "name": "stdout",
          "text": [
            "x = 15\n",
            "y = 225\n",
            "After swapping:\n",
            "x = 225\n",
            "y = 15\n"
          ]
        }
      ]
    }
  ]
}