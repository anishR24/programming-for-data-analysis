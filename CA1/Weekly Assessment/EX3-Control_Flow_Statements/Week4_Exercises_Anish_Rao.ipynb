{
  "nbformat": 4,
  "nbformat_minor": 0,
  "metadata": {
    "colab": {
      "provenance": []
    },
    "kernelspec": {
      "name": "python3",
      "display_name": "Python 3"
    },
    "language_info": {
      "name": "python"
    }
  },
  "cells": [
    {
      "cell_type": "markdown",
      "source": [
        "## **Exercise 3: Control Flow Statements**"
      ],
      "metadata": {
        "id": "EEkhXCdEtI-2"
      }
    },
    {
      "cell_type": "markdown",
      "source": [
        "---\n",
        "Name - Anish Rao\n",
        "\n",
        "Student Number - 20066423\n",
        "\n",
        "Group - C\n",
        "\n",
        "---\n",
        "\n",
        "[Colab Notebook Link](https://colab.research.google.com/drive/1e-pjDE_iHvY1uOfz9obHv2wV1PreWaQh?usp=sharing)"
      ],
      "metadata": {
        "id": "jLAcgRCptnHJ"
      }
    },
    {
      "cell_type": "markdown",
      "source": [
        "1. Write a program to check if a given number is positive, negative, or zero."
      ],
      "metadata": {
        "id": "d4kQPxohxXaR"
      }
    },
    {
      "cell_type": "code",
      "source": [
        "num = float(input(\"Enter a number: \"))\n",
        "if num > 0:\n",
        "    print(f\"{num} is Positive\")\n",
        "elif num < 0:\n",
        "    print(f\"{num} is Negative\")\n",
        "else:\n",
        "    print(f\"{num} is Zero\")"
      ],
      "metadata": {
        "id": "wfP7JHrk0jnM",
        "colab": {
          "base_uri": "https://localhost:8080/"
        },
        "outputId": "09487ac1-e1e0-469e-9ff0-beb54b4cb2ac"
      },
      "execution_count": null,
      "outputs": [
        {
          "output_type": "stream",
          "name": "stdout",
          "text": [
            "Enter a number: -9\n",
            "-9.0 is Negative\n"
          ]
        }
      ]
    },
    {
      "cell_type": "markdown",
      "source": [
        "2. Write a program to find the maximum of two numbers."
      ],
      "metadata": {
        "id": "BnFU24oCy0EQ"
      }
    },
    {
      "cell_type": "code",
      "source": [
        "def maximum(a, b):\n",
        "  return a if a > b else b\n",
        "\n",
        "num1 = int(input(\"Enter first number: \"))\n",
        "num2 = int(input(\"Enter second number: \"))\n",
        "print(\"Maximum:\", maximum(num1, num2))"
      ],
      "metadata": {
        "id": "8o-l1D7-0wyX",
        "colab": {
          "base_uri": "https://localhost:8080/"
        },
        "outputId": "6e9d34a0-a90b-4101-fb96-bc503c7f3951"
      },
      "execution_count": null,
      "outputs": [
        {
          "output_type": "stream",
          "name": "stdout",
          "text": [
            "Enter first number: 50\n",
            "Enter second number: 30\n",
            "Maximum: 50\n"
          ]
        }
      ]
    },
    {
      "cell_type": "markdown",
      "source": [
        "3. Write a program to check if a given year is a leap year."
      ],
      "metadata": {
        "id": "MpjcUJpWy2O_"
      }
    },
    {
      "cell_type": "code",
      "source": [
        "def is_leap_year(year):\n",
        "    return (year % 4 == 0 and year % 100 != 0) or (year % 400 == 0)\n",
        "\n",
        "year = int(input(\"Enter a year: \"))\n",
        "if is_leap_year(year):\n",
        "    print(f\"{year} is a leap year.\")\n",
        "else:\n",
        "    print(f\"{year} is not a leap year.\")"
      ],
      "metadata": {
        "colab": {
          "base_uri": "https://localhost:8080/"
        },
        "id": "SuHV61cA3p-c",
        "outputId": "70ed84a1-7d98-4b36-e522-958e1d6904c2"
      },
      "execution_count": null,
      "outputs": [
        {
          "output_type": "stream",
          "name": "stdout",
          "text": [
            "Enter a year: 2028\n",
            "2028 is a leap year.\n"
          ]
        }
      ]
    },
    {
      "cell_type": "markdown",
      "source": [
        "4. Write a program to print the Fibonacci sequence up to a given number of terms."
      ],
      "metadata": {
        "id": "x3cPbve-y2MG"
      }
    },
    {
      "cell_type": "code",
      "source": [
        "def fibonacci(n):\n",
        "    fib_seq = [0, 1]\n",
        "    while fib_seq[-1] + fib_seq[-2] <= n:\n",
        "        fib_seq.append(fib_seq[-1] + fib_seq[-2])\n",
        "    return fib_seq\n",
        "\n",
        "input_number = int(input(\"Enter a number: \"))\n",
        "print(fibonacci(input_number))"
      ],
      "metadata": {
        "colab": {
          "base_uri": "https://localhost:8080/"
        },
        "id": "kPvs8SXp3345",
        "outputId": "ab2feed7-1a29-4c06-c083-560a48d5a48e"
      },
      "execution_count": null,
      "outputs": [
        {
          "output_type": "stream",
          "name": "stdout",
          "text": [
            "Enter a number: 10\n",
            "[0, 1, 1, 2, 3, 5, 8]\n"
          ]
        }
      ]
    },
    {
      "cell_type": "markdown",
      "source": [
        "5. Write a program to find the factorial of a given number."
      ],
      "metadata": {
        "id": "cqkgEWBCy2Iz"
      }
    },
    {
      "cell_type": "code",
      "source": [
        "def factorial(n):\n",
        "    return 1 if n == 0 else n * factorial(n-1)\n",
        "\n",
        "input_number = int(input(\"Enter a number: \"))\n",
        "print(f\"Factorial of {input_number} is {factorial(input_number)}\")"
      ],
      "metadata": {
        "id": "Neacy0ju4AyF",
        "colab": {
          "base_uri": "https://localhost:8080/"
        },
        "outputId": "2ce850f0-d554-4fb7-a209-09508f367003"
      },
      "execution_count": null,
      "outputs": [
        {
          "output_type": "stream",
          "name": "stdout",
          "text": [
            "Enter a number: 4\n",
            "Factorial of 4 is 24\n"
          ]
        }
      ]
    },
    {
      "cell_type": "markdown",
      "source": [
        "6. Write a program to calculate the sum of all numbers from 1 to 100."
      ],
      "metadata": {
        "id": "Oqs6G4gqy2Fs"
      }
    },
    {
      "cell_type": "code",
      "source": [
        "print(\"Sum from 1 to 100:\", sum(range(1, 101)))"
      ],
      "metadata": {
        "colab": {
          "base_uri": "https://localhost:8080/"
        },
        "id": "WPJiAM7X4KPj",
        "outputId": "a81682a4-6140-4dd6-f80d-0588f9adae9e"
      },
      "execution_count": null,
      "outputs": [
        {
          "output_type": "stream",
          "name": "stdout",
          "text": [
            "Sum from 1 to 100: 5050\n"
          ]
        }
      ]
    },
    {
      "cell_type": "markdown",
      "source": [
        "7. Write a program to print the multiplication table of a given number."
      ],
      "metadata": {
        "id": "V5-3CxJmy2Cc"
      }
    },
    {
      "cell_type": "code",
      "source": [
        "num = int(input(\"Enter a number: \"))\n",
        "for i in range(1, 11):\n",
        "    print(f\"{num} x {i} = {num * i}\")"
      ],
      "metadata": {
        "id": "FsVUWduS4jAF",
        "colab": {
          "base_uri": "https://localhost:8080/"
        },
        "outputId": "074e920d-6ffb-4cc5-aa1c-530b1495a921"
      },
      "execution_count": null,
      "outputs": [
        {
          "output_type": "stream",
          "name": "stdout",
          "text": [
            "Enter a number: 13\n",
            "13 x 1 = 13\n",
            "13 x 2 = 26\n",
            "13 x 3 = 39\n",
            "13 x 4 = 52\n",
            "13 x 5 = 65\n",
            "13 x 6 = 78\n",
            "13 x 7 = 91\n",
            "13 x 8 = 104\n",
            "13 x 9 = 117\n",
            "13 x 10 = 130\n"
          ]
        }
      ]
    },
    {
      "cell_type": "markdown",
      "source": [
        "8. Write a program to find the prime numbers between 1 and 100."
      ],
      "metadata": {
        "id": "WOvGv8QSy1-S"
      }
    },
    {
      "cell_type": "code",
      "source": [
        "for num in range(2, 101):\n",
        "    if all(num % i != 0 for i in range(2, int(num ** 0.5) + 1)):\n",
        "        print(num, end=\" \")"
      ],
      "metadata": {
        "colab": {
          "base_uri": "https://localhost:8080/"
        },
        "id": "5wwqwn37449k",
        "outputId": "741d1e3c-86ea-446e-cdbc-434f45f19f26"
      },
      "execution_count": null,
      "outputs": [
        {
          "output_type": "stream",
          "name": "stdout",
          "text": [
            "2 3 5 7 11 13 17 19 23 29 31 37 41 43 47 53 59 61 67 71 73 79 83 89 97 "
          ]
        }
      ]
    },
    {
      "cell_type": "markdown",
      "source": [
        "9. Write a program to calculate the average of a list of numbers."
      ],
      "metadata": {
        "id": "ccVdJmY6y17s"
      }
    },
    {
      "cell_type": "code",
      "source": [
        "nums = list(map(float, input(\"Enter numbers separated by spaces: \").split()))\n",
        "print(\"Average:\", sum(nums) / len(nums))"
      ],
      "metadata": {
        "id": "hwsaznmc49-8",
        "colab": {
          "base_uri": "https://localhost:8080/"
        },
        "outputId": "a3ace92c-430e-419f-841e-ee22118e66cb"
      },
      "execution_count": null,
      "outputs": [
        {
          "output_type": "stream",
          "name": "stdout",
          "text": [
            "Enter numbers separated by spaces: 4 1 9 5 6\n",
            "Average: 5.0\n"
          ]
        }
      ]
    },
    {
      "cell_type": "markdown",
      "source": [
        "10. Write a program to count the number of vowels in each string."
      ],
      "metadata": {
        "id": "6PEiU305y14s"
      }
    },
    {
      "cell_type": "code",
      "source": [
        "def count_vowels(s):\n",
        "    return sum(1 for c in s.lower() if c in \"aeiou\")\n",
        "\n",
        "input_string = input(\"Enter a string: \")\n",
        "print(\"No. of vowels =\",count_vowels(input_string))"
      ],
      "metadata": {
        "colab": {
          "base_uri": "https://localhost:8080/"
        },
        "id": "YiK21FCaKfjp",
        "outputId": "33c0a57e-8ee3-4e9e-a878-6c4679d66b46"
      },
      "execution_count": null,
      "outputs": [
        {
          "output_type": "stream",
          "name": "stdout",
          "text": [
            "Enter a string: my name is anish\n",
            "No. of vowels = 5\n"
          ]
        }
      ]
    },
    {
      "cell_type": "markdown",
      "source": [
        "11. Write a function to calculate the area of a circle given its radius."
      ],
      "metadata": {
        "id": "kspOdzvEy118"
      }
    },
    {
      "cell_type": "code",
      "source": [
        "import math\n",
        "r = float(input(\"Enter radius: \"))\n",
        "print(\"Area:\", math.pi * r ** 2)"
      ],
      "metadata": {
        "id": "raTcq-ZJ5HYc",
        "colab": {
          "base_uri": "https://localhost:8080/"
        },
        "outputId": "1335af51-adae-4375-ad8a-22d838c77fcd"
      },
      "execution_count": null,
      "outputs": [
        {
          "output_type": "stream",
          "name": "stdout",
          "text": [
            "Enter radius: 7\n",
            "Area: 153.93804002589985\n"
          ]
        }
      ]
    },
    {
      "cell_type": "markdown",
      "source": [
        "12. Write a function to check if a given number is even or odd."
      ],
      "metadata": {
        "id": "ny2arA0Yy1zW"
      }
    },
    {
      "cell_type": "code",
      "source": [
        "def check_even_odd(n):\n",
        "    return \"Number is Even\" if n % 2 == 0 else \"Number is Odd\"\n",
        "\n",
        "num = int(input(\"Enter a number: \"))\n",
        "print(check_even_odd(num))"
      ],
      "metadata": {
        "colab": {
          "base_uri": "https://localhost:8080/"
        },
        "id": "eC4lc5Uc5NsS",
        "outputId": "f3107986-a8b3-4c41-e216-67a483c6ba4a"
      },
      "execution_count": null,
      "outputs": [
        {
          "output_type": "stream",
          "name": "stdout",
          "text": [
            "Enter a number: 8\n",
            "Number is Even\n"
          ]
        }
      ]
    },
    {
      "cell_type": "markdown",
      "source": [
        "13. Write a function to reverse a given string."
      ],
      "metadata": {
        "id": "NUApZF4Zy1wk"
      }
    },
    {
      "cell_type": "code",
      "source": [
        "s = input(\"Enter a string: \")\n",
        "print(\"Reversed:\", s[::-1])"
      ],
      "metadata": {
        "colab": {
          "base_uri": "https://localhost:8080/"
        },
        "id": "NGfnGLnTLtTA",
        "outputId": "b4e0a37f-cd81-4077-979c-5a20b3a0bce8"
      },
      "execution_count": null,
      "outputs": [
        {
          "output_type": "stream",
          "name": "stdout",
          "text": [
            "Enter a string: desserts\n",
            "Reversed: stressed\n"
          ]
        }
      ]
    },
    {
      "cell_type": "markdown",
      "source": [
        "14. Write a function to check if a given string is a palindrome."
      ],
      "metadata": {
        "id": "cJ0-wZLky1uQ"
      }
    },
    {
      "cell_type": "code",
      "source": [
        "def is_palindrome(s):\n",
        "    return \"Palindrome\" if s == s[::-1] else \"Not a Palindrome\"\n",
        "\n",
        "print(is_palindrome(\"racecar\"))\n",
        "print(is_palindrome(\"hello\"))"
      ],
      "metadata": {
        "colab": {
          "base_uri": "https://localhost:8080/"
        },
        "id": "06cbMf945XYT",
        "outputId": "90618e0d-3ae2-4cbf-e8c3-3c472a2f37ca"
      },
      "execution_count": null,
      "outputs": [
        {
          "output_type": "stream",
          "name": "stdout",
          "text": [
            "Palindrome\n",
            "Not a Palindrome\n"
          ]
        }
      ]
    },
    {
      "cell_type": "markdown",
      "source": [
        "15. Write a function to calculate the square root of a given number."
      ],
      "metadata": {
        "id": "ZI0Y1QJdy1rk"
      }
    },
    {
      "cell_type": "code",
      "source": [
        "num = float(input(\"Enter a number: \"))\n",
        "print(\"Square root:\", math.sqrt(num))"
      ],
      "metadata": {
        "id": "W9S8NMm_5cd_",
        "colab": {
          "base_uri": "https://localhost:8080/"
        },
        "outputId": "e2faa887-b61a-4d51-b2f9-283ce0f32a7d"
      },
      "execution_count": null,
      "outputs": [
        {
          "output_type": "stream",
          "name": "stdout",
          "text": [
            "Enter a number: 9\n",
            "Square root: 3.0\n"
          ]
        }
      ]
    },
    {
      "cell_type": "markdown",
      "source": [
        "16. Write a function to find the greatest common divisor (GCD) of two numbers."
      ],
      "metadata": {
        "id": "xtDkHEtay1o8"
      }
    },
    {
      "cell_type": "code",
      "source": [
        "a, b = map(int, input(\"Enter two numbers: \").split())\n",
        "print(\"GCD:\", math.gcd(a, b))"
      ],
      "metadata": {
        "colab": {
          "base_uri": "https://localhost:8080/"
        },
        "id": "GX6X0SEm5gtR",
        "outputId": "516f9d85-b87e-4bdf-b21f-e7c859208616"
      },
      "execution_count": null,
      "outputs": [
        {
          "output_type": "stream",
          "name": "stdout",
          "text": [
            "Enter two numbers: 25 15\n",
            "GCD: 5\n"
          ]
        }
      ]
    },
    {
      "cell_type": "markdown",
      "source": [
        "17. Write a function to check if a given number is a perfect square."
      ],
      "metadata": {
        "id": "NHXOcLw3y1mU"
      }
    },
    {
      "cell_type": "code",
      "source": [
        "num = int(input(\"Enter a number: \"))\n",
        "print(f\"{num} is a perfect square\" if math.isqrt(num) ** 2 == num else f\"{num} is not a perfect square\")"
      ],
      "metadata": {
        "id": "ppAWUVX25kZ-",
        "colab": {
          "base_uri": "https://localhost:8080/"
        },
        "outputId": "e2b0abed-7468-47db-953c-fff1e2640c58"
      },
      "execution_count": null,
      "outputs": [
        {
          "output_type": "stream",
          "name": "stdout",
          "text": [
            "Enter a number: 25\n",
            "25 is a perfect square\n"
          ]
        }
      ]
    },
    {
      "cell_type": "markdown",
      "source": [
        "18. Write a function to generate a list of prime numbers up to a given limit."
      ],
      "metadata": {
        "id": "fDzhJhgky1jl"
      }
    },
    {
      "cell_type": "code",
      "source": [
        "limit = int(input(\"Enter limit: \"))\n",
        "primes = [num for num in range(2, limit+1) if all(num % i != 0 for i in range(2, int(num ** 0.5) + 1))]\n",
        "print(\"Prime numbers:\", primes)"
      ],
      "metadata": {
        "colab": {
          "base_uri": "https://localhost:8080/"
        },
        "id": "EChqTs0M5qwT",
        "outputId": "91b37f14-454b-471b-9e1f-9e6ceac832ed"
      },
      "execution_count": null,
      "outputs": [
        {
          "output_type": "stream",
          "name": "stdout",
          "text": [
            "Enter limit: 20\n",
            "Prime numbers: [2, 3, 5, 7, 11, 13, 17, 19]\n"
          ]
        }
      ]
    },
    {
      "cell_type": "markdown",
      "source": [
        "19. Write a function to check if a given string is an anagram of another string."
      ],
      "metadata": {
        "id": "rDOz7QWEy1g7"
      }
    },
    {
      "cell_type": "code",
      "source": [
        "s1 = input(\"Enter first string: \").lower()\n",
        "s2 = input(\"Enter second string: \").lower()\n",
        "print(\"Anagram\" if sorted(s1) == sorted(s2) else \"Not an anagram\")"
      ],
      "metadata": {
        "colab": {
          "base_uri": "https://localhost:8080/"
        },
        "id": "3GpUObbv5wAI",
        "outputId": "d6f8c67b-4877-47fb-c2b9-05e644abe611"
      },
      "execution_count": null,
      "outputs": [
        {
          "output_type": "stream",
          "name": "stdout",
          "text": [
            "Enter first string: harry potter\n",
            "Enter second string: throat perry\n",
            "Anagram\n"
          ]
        }
      ]
    },
    {
      "cell_type": "markdown",
      "source": [
        "20. Write a function to calculate the factorial of a given number using recursion."
      ],
      "metadata": {
        "id": "sjE67TAOy1ei"
      }
    },
    {
      "cell_type": "code",
      "source": [
        "def factorial(n):\n",
        "    return 1 if n == 0 else n * factorial(n - 1)\n",
        "\n",
        "num = int(input(\"Enter a number: \"))\n",
        "print(\"Factorial:\", factorial(num))"
      ],
      "metadata": {
        "colab": {
          "base_uri": "https://localhost:8080/"
        },
        "id": "Gf5INNyO51LH",
        "outputId": "13cfe89d-ebb2-4983-c524-52542da23570"
      },
      "execution_count": null,
      "outputs": [
        {
          "output_type": "stream",
          "name": "stdout",
          "text": [
            "Enter a number: 4\n",
            "Factorial: 24\n"
          ]
        }
      ]
    }
  ]
}