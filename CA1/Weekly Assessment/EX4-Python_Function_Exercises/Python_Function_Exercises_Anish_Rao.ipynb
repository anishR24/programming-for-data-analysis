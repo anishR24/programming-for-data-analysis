{
  "nbformat": 4,
  "nbformat_minor": 0,
  "metadata": {
    "colab": {
      "provenance": []
    },
    "kernelspec": {
      "name": "python3",
      "display_name": "Python 3"
    },
    "language_info": {
      "name": "python"
    }
  },
  "cells": [
    {
      "cell_type": "markdown",
      "source": [
        "## **Exercise 4: Python Functions**"
      ],
      "metadata": {
        "id": "EEkhXCdEtI-2"
      }
    },
    {
      "cell_type": "markdown",
      "source": [
        "---\n",
        "Name - Anish Rao\n",
        "\n",
        "Student Number - 20066423\n",
        "\n",
        "Group - C\n",
        "\n",
        "---\n",
        "\n",
        "[Colab Notebook Link](https://colab.research.google.com/drive/1PxD6QhyC7TJCMS5hT03MwIaaKSH56qcg#scrollTo=jLAcgRCptnHJ)"
      ],
      "metadata": {
        "id": "jLAcgRCptnHJ"
      }
    },
    {
      "cell_type": "markdown",
      "source": [
        "1. Area of a circle is calculated as follows: area = π x r x r and perimeter = 2 x π x r. Write a\n",
        "function that calculates area_of_circle and perimeter_of_circle."
      ],
      "metadata": {
        "id": "d4kQPxohxXaR"
      }
    },
    {
      "cell_type": "code",
      "source": [
        "import math\n",
        "from collections import Counter\n",
        "\n",
        "def area_of_circle(r):\n",
        "    return math.pi * r * r\n",
        "\n",
        "def perimeter_of_circle(r):\n",
        "    return 2 * math.pi * r\n",
        "\n",
        "r = float(input(\"Enter the radius of the circle: \"))\n",
        "print(\"Area:\", area_of_circle(r))\n",
        "print(\"Perimeter:\", perimeter_of_circle(r))"
      ],
      "metadata": {
        "id": "wfP7JHrk0jnM",
        "colab": {
          "base_uri": "https://localhost:8080/"
        },
        "outputId": "e0a8db99-4607-4973-816b-d8595c50bc69"
      },
      "execution_count": 3,
      "outputs": [
        {
          "output_type": "stream",
          "name": "stdout",
          "text": [
            "Enter the radius of the circle: 7\n",
            "Area: 153.93804002589985\n",
            "Perimeter: 43.982297150257104\n"
          ]
        }
      ]
    },
    {
      "cell_type": "markdown",
      "source": [
        "2. Write a function called add_all_nums which takes arbitrary number of arguments and sums\n",
        "all the arguments. Check if all the list items are number types. If not, provide reasonable\n",
        "feedback."
      ],
      "metadata": {
        "id": "BnFU24oCy0EQ"
      }
    },
    {
      "cell_type": "code",
      "source": [
        "def add_all_nums(args):\n",
        "    for num in args:\n",
        "        if not isinstance(num, (int, float)):\n",
        "            return \"Error: All arguments must be numbers.\"\n",
        "    return sum(args)\n",
        "\n",
        "nums_input = input(\"Enter numbers to sum: \").split()\n",
        "nums = []\n",
        "for x in nums_input:\n",
        "  nums.append(float(x))\n",
        "\n",
        "print(\"Sum:\", add_all_nums(nums))"
      ],
      "metadata": {
        "id": "8o-l1D7-0wyX",
        "colab": {
          "base_uri": "https://localhost:8080/"
        },
        "outputId": "fef3dcab-8728-4c42-cae2-9699ca888c37"
      },
      "execution_count": 4,
      "outputs": [
        {
          "output_type": "stream",
          "name": "stdout",
          "text": [
            "Enter numbers to sum: 5 6 7 10 3 4\n",
            "Sum: 35.0\n"
          ]
        }
      ]
    },
    {
      "cell_type": "markdown",
      "source": [
        "3. Temperature in °C can be converted to °F using this formula: °F = (°C x 9/5) + 32. Write a\n",
        "function which converts °C to °F, convert_celsius_2_fahrenheit.\n"
      ],
      "metadata": {
        "id": "MpjcUJpWy2O_"
      }
    },
    {
      "cell_type": "code",
      "source": [
        "def convert_celsius_2_fahrenheit(c):\n",
        "    return (c * 9/5) + 32\n",
        "\n",
        "celsius = float(input(\"Enter temperature in Celsius: \"))\n",
        "print(\"Temperature in Fahrenheit:\", convert_celsius_2_fahrenheit(celsius))"
      ],
      "metadata": {
        "colab": {
          "base_uri": "https://localhost:8080/"
        },
        "id": "SuHV61cA3p-c",
        "outputId": "f7b69dd3-8ef9-4cf6-9d95-bd13fd7446d1"
      },
      "execution_count": 5,
      "outputs": [
        {
          "output_type": "stream",
          "name": "stdout",
          "text": [
            "Enter temperature in Celsius: 50\n",
            "Temperature in Fahrenheit: 122.0\n"
          ]
        }
      ]
    },
    {
      "cell_type": "markdown",
      "source": [
        "\n",
        "4. Write a function called check_season, it takes a month parameter and returns the season:\n",
        "Autumn, Winter, Spring, or Summer."
      ],
      "metadata": {
        "id": "x3cPbve-y2MG"
      }
    },
    {
      "cell_type": "code",
      "source": [
        "def check_season(month):\n",
        "    if month in [12, 1, 2]:\n",
        "        return \"Winter\"\n",
        "    elif month in [3, 4, 5]:\n",
        "        return \"Spring\"\n",
        "    elif month in [6, 7, 8]:\n",
        "        return \"Summer\"\n",
        "    elif month in [9, 10, 11]:\n",
        "        return \"Autumn\"\n",
        "    else:\n",
        "        return \"Invalid month\"\n",
        "\n",
        "month = int(input(\"Enter month number (1-12): \"))\n",
        "print(\"Season:\", check_season(month))"
      ],
      "metadata": {
        "colab": {
          "base_uri": "https://localhost:8080/"
        },
        "id": "kPvs8SXp3345",
        "outputId": "f00f3065-8be4-49ad-9b82-8350a587e78e"
      },
      "execution_count": 6,
      "outputs": [
        {
          "output_type": "stream",
          "name": "stdout",
          "text": [
            "Enter month number (1-12): 6\n",
            "Season: Summer\n"
          ]
        }
      ]
    },
    {
      "cell_type": "markdown",
      "source": [
        "5. Write a function called calculate_slope which returns the slope of a linear equation."
      ],
      "metadata": {
        "id": "cqkgEWBCy2Iz"
      }
    },
    {
      "cell_type": "code",
      "source": [
        "def calculate_slope(x1, y1, x2, y2):\n",
        "    if x2 - x1 == 0:\n",
        "        return \"vertical line\"\n",
        "    return (y2 - y1) / (x2 - x1)\n",
        "\n",
        "x1 = float(input(\"Enter x1: \"))\n",
        "y1 = float(input(\"Enter y1: \"))\n",
        "x2 = float(input(\"Enter x2: \"))\n",
        "y2 = float(input(\"Enter y2: \"))\n",
        "print(\"Slope:\", calculate_slope(x1, y1, x2, y2))"
      ],
      "metadata": {
        "id": "Neacy0ju4AyF",
        "colab": {
          "base_uri": "https://localhost:8080/"
        },
        "outputId": "fe8c94ac-eeed-481d-a382-9786d70acea2"
      },
      "execution_count": 7,
      "outputs": [
        {
          "output_type": "stream",
          "name": "stdout",
          "text": [
            "Enter x1: 4\n",
            "Enter y1: 8\n",
            "Enter x2: 2\n",
            "Enter y2: 6\n",
            "Slope: 1.0\n"
          ]
        }
      ]
    },
    {
      "cell_type": "markdown",
      "source": [
        "6. Quadratic equation is calculated as follows: ax² + bx + c = 0. Write a function which\n",
        "calculates the solution set of a quadratic equation, solve_quadratic_eqn."
      ],
      "metadata": {
        "id": "Oqs6G4gqy2Fs"
      }
    },
    {
      "cell_type": "code",
      "source": [
        "def solve_quadratic_eqn(a, b, c):\n",
        "    if a == 0:\n",
        "        return \"a cannot be 0.\"\n",
        "    disc = b**2 - 4*a*c\n",
        "    if disc > 0:\n",
        "        root1 = (-b + math.sqrt(disc)) / (2*a)\n",
        "        root2 = (-b - math.sqrt(disc)) / (2*a)\n",
        "        return (root1, root2)\n",
        "    elif disc == 0:\n",
        "        root = -b / (2*a)\n",
        "        return (root,)\n",
        "    else:\n",
        "        real_part = -b / (2*a)\n",
        "        imaginary_part = math.sqrt(-disc) / (2*a)\n",
        "        return (complex(real_part, imaginary_part), complex(real_part, -imaginary_part))\n",
        "\n",
        "a = float(input(\"Enter coefficient a: \"))\n",
        "b = float(input(\"Enter coefficient b: \"))\n",
        "c = float(input(\"Enter coefficient c: \"))\n",
        "print(f\"{a}x² + {b}x + {c} = 0\")\n",
        "print(solve_quadratic_eqn(a, b, c))"
      ],
      "metadata": {
        "colab": {
          "base_uri": "https://localhost:8080/"
        },
        "id": "WPJiAM7X4KPj",
        "outputId": "721f0b0d-e81c-4f1c-b86e-18939872bc43"
      },
      "execution_count": 22,
      "outputs": [
        {
          "output_type": "stream",
          "name": "stdout",
          "text": [
            "Enter coefficient a: 1\n",
            "Enter coefficient b: 6\n",
            "Enter coefficient c: 8\n",
            "1.0x² + 6.0x + 8.0 = 0\n",
            "(-2.0, -4.0)\n"
          ]
        }
      ]
    },
    {
      "cell_type": "markdown",
      "source": [
        "7. Declare a function named print_list. It takes a list as a parameter and prints out each\n",
        "element of the list."
      ],
      "metadata": {
        "id": "V5-3CxJmy2Cc"
      }
    },
    {
      "cell_type": "code",
      "source": [
        "def print_list(lst):\n",
        "    for item in lst:\n",
        "        print(item)\n",
        "\n",
        "lst_input = input(\"Enter list items separated by commas: \").split(',')\n",
        "lst = [item.strip() for item in lst_input]\n",
        "print(\"List items:\")\n",
        "print_list(lst)"
      ],
      "metadata": {
        "id": "FsVUWduS4jAF",
        "colab": {
          "base_uri": "https://localhost:8080/"
        },
        "outputId": "cac2e2c0-0bad-4eac-cdde-c78a4076f98c"
      },
      "execution_count": 9,
      "outputs": [
        {
          "output_type": "stream",
          "name": "stdout",
          "text": [
            "Enter list items separated by commas: 5, apple, tree, 9.5\n",
            "List items:\n",
            "5\n",
            "apple\n",
            "tree\n",
            "9.5\n"
          ]
        }
      ]
    },
    {
      "cell_type": "markdown",
      "source": [
        "8. Declare a function named reverse_list. It takes an array as a parameter and returns the\n",
        "reverse of the array (use loops)."
      ],
      "metadata": {
        "id": "WOvGv8QSy1-S"
      }
    },
    {
      "cell_type": "code",
      "source": [
        "def reverse_list(arr):\n",
        "    rev = []\n",
        "    for i in range(len(arr)-1, -1, -1):\n",
        "        rev.append(arr[i])\n",
        "    return rev\n",
        "\n",
        "lst_input = input(\"Enter list to reverse: \").split(',')\n",
        "lst = [item.strip() for item in lst_input]\n",
        "print(\"Reversed list:\", reverse_list(lst))"
      ],
      "metadata": {
        "colab": {
          "base_uri": "https://localhost:8080/"
        },
        "id": "5wwqwn37449k",
        "outputId": "274c41a2-f03f-4af6-e0f3-9a1019ac5555"
      },
      "execution_count": 10,
      "outputs": [
        {
          "output_type": "stream",
          "name": "stdout",
          "text": [
            "Enter list to reverse: apple, tree, egg, banana\n",
            "Reversed list: ['banana', 'egg', 'tree', 'apple']\n"
          ]
        }
      ]
    },
    {
      "cell_type": "markdown",
      "source": [
        "9. Declare a function named capitalize_list_items. It takes a list as a parameter and returns a\n",
        "capitalized list of items.\n"
      ],
      "metadata": {
        "id": "ccVdJmY6y17s"
      }
    },
    {
      "cell_type": "code",
      "source": [
        "def capitalize_list_items(lst):\n",
        "    return [str(item).capitalize() for item in lst]\n",
        "\n",
        "lst_input = input(\"Enter list to capitalize: \").split(',')\n",
        "lst = [item.strip() for item in lst_input]\n",
        "print(\"Capitalized list:\", capitalize_list_items(lst))"
      ],
      "metadata": {
        "id": "hwsaznmc49-8",
        "colab": {
          "base_uri": "https://localhost:8080/"
        },
        "outputId": "b2cf6455-91fe-4931-8268-b37b0c05d32f"
      },
      "execution_count": 11,
      "outputs": [
        {
          "output_type": "stream",
          "name": "stdout",
          "text": [
            "Enter list to capitalize: elephant, apple, tree\n",
            "Capitalized list: ['Elephant', 'Apple', 'Tree']\n"
          ]
        }
      ]
    },
    {
      "cell_type": "markdown",
      "source": [
        "10. Declare a function named add_item. It takes a list and an item as parameters. It returns a list\n",
        "with the item added at the end."
      ],
      "metadata": {
        "id": "6PEiU305y14s"
      }
    },
    {
      "cell_type": "code",
      "source": [
        "def add_item(lst, item):\n",
        "    new_lst = lst.copy()\n",
        "    new_lst.append(item)\n",
        "    return new_lst\n",
        "\n",
        "lst_input = input(\"Enter initial list: \").split(',')\n",
        "lst = [item.strip() for item in lst_input]\n",
        "item_to_add = input(\"Enter the item to add: \").strip()\n",
        "print(\"List after adding item:\", add_item(lst, item_to_add))"
      ],
      "metadata": {
        "colab": {
          "base_uri": "https://localhost:8080/"
        },
        "id": "YiK21FCaKfjp",
        "outputId": "bf6eb927-ff70-4e55-8dd2-1d3c94ab3d17"
      },
      "execution_count": 12,
      "outputs": [
        {
          "output_type": "stream",
          "name": "stdout",
          "text": [
            "Enter initial list: dublin, cork, limerick\n",
            "Enter the item to add: ireland\n",
            "List after adding item: ['dublin', 'cork', 'limerick', 'ireland']\n"
          ]
        }
      ]
    },
    {
      "cell_type": "markdown",
      "source": [
        "11. Declare a function named remove_item. It takes a list and an item as parameters. It returns\n",
        "a list with the item removed from it."
      ],
      "metadata": {
        "id": "kspOdzvEy118"
      }
    },
    {
      "cell_type": "code",
      "source": [
        "def remove_item(lst, item):\n",
        "    new_lst = lst.copy()\n",
        "    if item in new_lst:\n",
        "        new_lst.remove(item)\n",
        "    else:\n",
        "        print(\"Item not found in list.\")\n",
        "    return new_lst\n",
        "\n",
        "lst_input = input(\"Enter initial list: \").split(',')\n",
        "lst = [item.strip() for item in lst_input]\n",
        "item_to_remove = input(\"Enter the item to remove: \").strip()\n",
        "print(\"List after removing item:\", remove_item(lst, item_to_remove))"
      ],
      "metadata": {
        "id": "raTcq-ZJ5HYc",
        "colab": {
          "base_uri": "https://localhost:8080/"
        },
        "outputId": "b9d34f93-5da9-44d8-9513-a7517195b47f"
      },
      "execution_count": 13,
      "outputs": [
        {
          "output_type": "stream",
          "name": "stdout",
          "text": [
            "Enter initial list: dublin, cork, limerick, ireland\n",
            "Enter the item to remove: ireland\n",
            "List after removing item: ['dublin', 'cork', 'limerick']\n"
          ]
        }
      ]
    },
    {
      "cell_type": "markdown",
      "source": [
        "12. Declare a function named sum_of_numbers. It takes a number parameter and adds all the\n",
        "numbers in that range."
      ],
      "metadata": {
        "id": "ny2arA0Yy1zW"
      }
    },
    {
      "cell_type": "code",
      "source": [
        "def sum_of_numbers(n):\n",
        "    return sum(range(1, n+1))\n",
        "\n",
        "n = int(input(\"Enter a number to sum from 1 to n: \"))\n",
        "print(\"Sum of numbers:\", sum_of_numbers(n))"
      ],
      "metadata": {
        "colab": {
          "base_uri": "https://localhost:8080/"
        },
        "id": "eC4lc5Uc5NsS",
        "outputId": "db329622-89b5-4775-f338-b5dc05c569f6"
      },
      "execution_count": 14,
      "outputs": [
        {
          "output_type": "stream",
          "name": "stdout",
          "text": [
            "Enter a number to sum from 1 to n: 10\n",
            "Sum of numbers: 55\n"
          ]
        }
      ]
    },
    {
      "cell_type": "markdown",
      "source": [
        "13. Declare a function named sum_of_odds. It takes a number parameter and adds all the odd\n",
        "numbers in that range.\n"
      ],
      "metadata": {
        "id": "NUApZF4Zy1wk"
      }
    },
    {
      "cell_type": "code",
      "source": [
        "def sum_of_odds(n):\n",
        "    return sum(i for i in range(1, n+1) if i % 2 != 0)\n",
        "\n",
        "n = int(input(\"Enter a number to sum odd numbers from 1 to n: \"))\n",
        "print(\"Sum of odd numbers:\", sum_of_odds(n))"
      ],
      "metadata": {
        "colab": {
          "base_uri": "https://localhost:8080/"
        },
        "id": "NGfnGLnTLtTA",
        "outputId": "61a8ef25-ad08-4bac-a4d4-5ab51b526d73"
      },
      "execution_count": 15,
      "outputs": [
        {
          "output_type": "stream",
          "name": "stdout",
          "text": [
            "Enter a number to sum odd numbers from 1 to n: 6\n",
            "Sum of odd numbers: 9\n"
          ]
        }
      ]
    },
    {
      "cell_type": "markdown",
      "source": [
        "14. Declare a function named sum_of_even. It takes a number parameter and adds all the even\n",
        "numbers in that range."
      ],
      "metadata": {
        "id": "cJ0-wZLky1uQ"
      }
    },
    {
      "cell_type": "code",
      "source": [
        "def sum_of_even(n):\n",
        "    return sum(i for i in range(1, n+1) if i % 2 == 0)\n",
        "\n",
        "n = int(input(\"Enter a number to sum even numbers from 1 to n: \"))\n",
        "print(\"Sum of even numbers:\", sum_of_even(n))"
      ],
      "metadata": {
        "colab": {
          "base_uri": "https://localhost:8080/"
        },
        "id": "06cbMf945XYT",
        "outputId": "7e16e3d9-9c15-4888-e56a-70398923565c"
      },
      "execution_count": 16,
      "outputs": [
        {
          "output_type": "stream",
          "name": "stdout",
          "text": [
            "Enter a number to sum even numbers from 1 to n: 7\n",
            "Sum of even numbers: 12\n"
          ]
        }
      ]
    },
    {
      "cell_type": "markdown",
      "source": [
        "15. Declare a function named evens_and_odds. It takes a positive integer as a parameter and\n",
        "counts the number of evens and odds in the number."
      ],
      "metadata": {
        "id": "ZI0Y1QJdy1rk"
      }
    },
    {
      "cell_type": "code",
      "source": [
        "def evens_and_odds(n):\n",
        "    evens = sum(1 for i in range(n+1) if i % 2 == 0)\n",
        "    odds = sum(1 for i in range(n+1) if i % 2 != 0)\n",
        "    print(\"The number of odds is\", odds)\n",
        "    print(\"The number of evens is\", evens)\n",
        "\n",
        "n = int(input(\"Enter a positive integer to count evens and odds: \"))\n",
        "evens_and_odds(n)"
      ],
      "metadata": {
        "id": "W9S8NMm_5cd_",
        "colab": {
          "base_uri": "https://localhost:8080/"
        },
        "outputId": "f19dcbf0-c723-4f96-edbd-8e8901849a63"
      },
      "execution_count": 18,
      "outputs": [
        {
          "output_type": "stream",
          "name": "stdout",
          "text": [
            "Enter a positive integer to count evens and odds: 10\n",
            "The number of odds is 5\n",
            "The number of evens is 6\n"
          ]
        }
      ]
    },
    {
      "cell_type": "markdown",
      "source": [
        "16. Call your function factorial, it takes a whole number as a parameter and returns its factorial."
      ],
      "metadata": {
        "id": "xtDkHEtay1o8"
      }
    },
    {
      "cell_type": "code",
      "source": [
        "def factorial(n):\n",
        "    if n < 0:\n",
        "        return \"Factorial of a negative number doesn't exist.\"\n",
        "    result = 1\n",
        "    for i in range(1, n+1):\n",
        "        result *= i\n",
        "    return result\n",
        "\n",
        "n = int(input(\"Enter a number to compute its factorial: \"))\n",
        "print(\"Factorial:\", factorial(n))"
      ],
      "metadata": {
        "colab": {
          "base_uri": "https://localhost:8080/"
        },
        "id": "GX6X0SEm5gtR",
        "outputId": "c3fab6b8-6131-4f96-dbd3-63e64c1aa638"
      },
      "execution_count": 19,
      "outputs": [
        {
          "output_type": "stream",
          "name": "stdout",
          "text": [
            "Enter a number to compute its factorial: 5\n",
            "Factorial: 120\n"
          ]
        }
      ]
    },
    {
      "cell_type": "markdown",
      "source": [
        "17. Call your function is_empty, it takes a parameter and checks if it is empty or not."
      ],
      "metadata": {
        "id": "NHXOcLw3y1mU"
      }
    },
    {
      "cell_type": "code",
      "source": [
        "def is_empty(param):\n",
        "    return not bool(param)\n",
        "\n",
        "param = input(\"Enter something: \")\n",
        "print(\"Is empty?\", is_empty(param))"
      ],
      "metadata": {
        "id": "ppAWUVX25kZ-",
        "colab": {
          "base_uri": "https://localhost:8080/"
        },
        "outputId": "c2f33f30-bda4-430e-ad30-d1a4c331b4aa"
      },
      "execution_count": 20,
      "outputs": [
        {
          "output_type": "stream",
          "name": "stdout",
          "text": [
            "Enter something: \n",
            "Is empty? True\n"
          ]
        }
      ]
    },
    {
      "cell_type": "markdown",
      "source": [
        "18. Write a different function which take lists. They should calculate_mean, calculate_median,\n",
        "calculate_mode, calculate_range, calculate_variance, and calculate_std (standard\n",
        "deviation)."
      ],
      "metadata": {
        "id": "fDzhJhgky1jl"
      }
    },
    {
      "cell_type": "code",
      "source": [
        "def calculate_mean(lst):\n",
        "    return sum(lst) / len(lst) if lst else 0\n",
        "\n",
        "def calculate_median(lst):\n",
        "    n = len(lst)\n",
        "    if n == 0:\n",
        "        return None\n",
        "    sorted_lst = sorted(lst)\n",
        "    mid = n // 2\n",
        "    if n % 2 == 1:\n",
        "        return sorted_lst[mid]\n",
        "    else:\n",
        "        return (sorted_lst[mid - 1] + sorted_lst[mid]) / 2\n",
        "\n",
        "def calculate_mode(lst):\n",
        "    if not lst:\n",
        "        return None\n",
        "    data = Counter(lst)\n",
        "    mode_val, _ = data.most_common(1)[0]\n",
        "    return mode_val\n",
        "\n",
        "lst_input = input(\"Enter numbers separated by commas for mean, median, mode: \").split(',')\n",
        "nums = []\n",
        "for x in lst_input:\n",
        "    x = x.strip()\n",
        "    try:\n",
        "        if '.' in x:\n",
        "            nums.append(float(x))\n",
        "        else:\n",
        "            nums.append(int(x))\n",
        "    except:\n",
        "        pass\n",
        "print(\"Mean:\", calculate_mean(nums))\n",
        "print(\"Median:\", calculate_median(nums))\n",
        "print(\"Mode:\", calculate_mode(nums))"
      ],
      "metadata": {
        "colab": {
          "base_uri": "https://localhost:8080/"
        },
        "id": "EChqTs0M5qwT",
        "outputId": "31835a75-249d-4ee6-b44d-4c0305f83383"
      },
      "execution_count": 21,
      "outputs": [
        {
          "output_type": "stream",
          "name": "stdout",
          "text": [
            "Enter numbers separated by commas for mean, median, mode: 5, 10, 8, 6, 5, 3, 2, 1\n",
            "Mean: 5.0\n",
            "Median: 5.0\n",
            "Mode: 5\n"
          ]
        }
      ]
    }
  ]
}