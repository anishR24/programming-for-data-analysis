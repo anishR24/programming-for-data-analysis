{
  "nbformat": 4,
  "nbformat_minor": 0,
  "metadata": {
    "colab": {
      "provenance": []
    },
    "kernelspec": {
      "name": "python3",
      "display_name": "Python 3"
    },
    "language_info": {
      "name": "python"
    }
  },
  "cells": [
    {
      "cell_type": "markdown",
      "source": [
        "# **Quiz Group - C**"
      ],
      "metadata": {
        "id": "_TXUBk9KovRO"
      }
    },
    {
      "cell_type": "markdown",
      "source": [
        "---\n",
        "Name - Anish Rao\n",
        "\n",
        "Student Number - 20066423\n",
        "\n",
        "Group - C\n",
        "\n",
        "---\n",
        "\n",
        "[Colab Notebook Link](https://colab.research.google.com/drive/1HQG87hLftrJMM2XH4A6wsfOjMxmKsLG1?usp=sharing)"
      ],
      "metadata": {
        "id": "1g5qsseuod7r"
      }
    },
    {
      "cell_type": "code",
      "source": [
        "def check_balance(balance):\n",
        "    print(f\"Your current balance is: €{balance:.2f}\")\n",
        "\n",
        "def deposit_money(balance):\n",
        "    try:\n",
        "        amount = float(input(\"Enter the amount to deposit (€): \"))\n",
        "        if amount <= 0:\n",
        "            print(\"Invalid amount! Deposit must be positive. Returning to main menu.\")\n",
        "            return balance\n",
        "        balance += amount\n",
        "        print(f\"€{amount:.2f} deposited successfully! Your updated balance is €{balance:.2f}.\")\n",
        "        return balance\n",
        "    except ValueError:\n",
        "        print(\"Invalid input. Please enter a numeric amount. Returning to main menu.\")\n",
        "        return balance\n",
        "\n",
        "def withdraw_money(balance):\n",
        "    try:\n",
        "        amount = float(input(\"Enter the amount to withdraw (€): \"))\n",
        "        if amount <= 0:\n",
        "            print(\"Invalid amount! Withdrawal must be positive. Returning to main menu.\")\n",
        "            return balance\n",
        "        if amount > balance:\n",
        "            print(f\"Insufficient funds! Your available balance is €{balance:.2f}. Returning to main menu.\")\n",
        "            return balance\n",
        "        balance -= amount\n",
        "        print(f\"€{amount:.2f} withdrawn successfully! Your updated balance is €{balance:.2f}.\")\n",
        "        return balance\n",
        "    except ValueError:\n",
        "        print(\"Invalid input. Please enter a numeric amount. Returning to main menu.\")\n",
        "        return balance\n",
        "\n",
        "def atm_system():\n",
        "    balance = 1000.0\n",
        "    while True:\n",
        "        print(\"\\nATM Menu:\")\n",
        "        print(\"1. Check Balance\")\n",
        "        print(\"2. Deposit Money\")\n",
        "        print(\"3. Withdraw Money\")\n",
        "        print(\"4. Exit\")\n",
        "\n",
        "        choice = input(\"Select an option (1-4): \")\n",
        "\n",
        "        if choice == \"1\":\n",
        "            check_balance(balance)\n",
        "        elif choice == \"2\":\n",
        "            balance = deposit_money(balance)\n",
        "        elif choice == \"3\":\n",
        "            balance = withdraw_money(balance)\n",
        "        elif choice == \"4\":\n",
        "            print(\"\\nExiting ATM. Thank you!\")\n",
        "            break\n",
        "        else:\n",
        "            print(\"\\nInvalid option. Please enter a number between 1 and 4.\")\n",
        "\n",
        "atm_system()"
      ],
      "metadata": {
        "colab": {
          "base_uri": "https://localhost:8080/"
        },
        "id": "kpcQc5B4leWQ",
        "outputId": "6909e624-9b17-4e15-fb0c-39e50e373928"
      },
      "execution_count": null,
      "outputs": [
        {
          "output_type": "stream",
          "name": "stdout",
          "text": [
            "\n",
            "ATM Menu:\n",
            "1. Check Balance\n",
            "2. Deposit Money\n",
            "3. Withdraw Money\n",
            "4. Exit\n",
            "Select an option (1-4): 1\n",
            "Your current balance is: €1000.00\n",
            "\n",
            "ATM Menu:\n",
            "1. Check Balance\n",
            "2. Deposit Money\n",
            "3. Withdraw Money\n",
            "4. Exit\n",
            "Select an option (1-4): 2\n",
            "Enter the amount to deposit (€): 500\n",
            "€500.00 deposited successfully! Your updated balance is €1500.00.\n",
            "\n",
            "ATM Menu:\n",
            "1. Check Balance\n",
            "2. Deposit Money\n",
            "3. Withdraw Money\n",
            "4. Exit\n",
            "Select an option (1-4): 2\n",
            "Enter the amount to deposit (€): -500\n",
            "Invalid amount! Deposit must be positive. Returning to main menu.\n",
            "\n",
            "ATM Menu:\n",
            "1. Check Balance\n",
            "2. Deposit Money\n",
            "3. Withdraw Money\n",
            "4. Exit\n",
            "Select an option (1-4): 3\n",
            "Enter the amount to withdraw (€): 2000\n",
            "Insufficient funds! Your available balance is €1500.00. Returning to main menu.\n",
            "\n",
            "ATM Menu:\n",
            "1. Check Balance\n",
            "2. Deposit Money\n",
            "3. Withdraw Money\n",
            "4. Exit\n",
            "Select an option (1-4): 3\n",
            "Enter the amount to withdraw (€): 500\n",
            "€500.00 withdrawn successfully! Your updated balance is €1000.00.\n",
            "\n",
            "ATM Menu:\n",
            "1. Check Balance\n",
            "2. Deposit Money\n",
            "3. Withdraw Money\n",
            "4. Exit\n",
            "Select an option (1-4): 4\n",
            "\n",
            "Exiting ATM. Thank you!\n"
          ]
        }
      ]
    }
  ]
}