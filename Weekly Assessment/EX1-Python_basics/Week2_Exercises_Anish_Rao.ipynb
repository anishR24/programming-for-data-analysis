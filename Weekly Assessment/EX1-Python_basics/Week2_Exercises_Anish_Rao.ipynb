{
  "nbformat": 4,
  "nbformat_minor": 0,
  "metadata": {
    "colab": {
      "provenance": []
    },
    "kernelspec": {
      "name": "python3",
      "display_name": "Python 3"
    },
    "language_info": {
      "name": "python"
    }
  },
  "cells": [
    {
      "cell_type": "markdown",
      "source": [
        "## **Exercise 1: Python Basics**"
      ],
      "metadata": {
        "id": "EEkhXCdEtI-2"
      }
    },
    {
      "cell_type": "markdown",
      "source": [
        "---\n",
        "Name - Anish Rao\n",
        "\n",
        "Student Number - 20066423\n",
        "\n",
        "Group - C\n",
        "\n",
        "---\n",
        "\n",
        "[Colab Notebook Link](https://colab.research.google.com/drive/15lK45o8UZ8_jBc7QAprO-3Sl-KOQ_NTi?usp=sharing)"
      ],
      "metadata": {
        "id": "jLAcgRCptnHJ"
      }
    },
    {
      "cell_type": "markdown",
      "source": [
        "1. Write a program that prints \"Hello, World!\" to the console."
      ],
      "metadata": {
        "id": "d4kQPxohxXaR"
      }
    },
    {
      "cell_type": "code",
      "source": [
        "print(\"Hello, World!\")"
      ],
      "metadata": {
        "id": "wfP7JHrk0jnM",
        "colab": {
          "base_uri": "https://localhost:8080/"
        },
        "outputId": "2d73d355-07d1-4bed-c8ba-b4e4f857d74a"
      },
      "execution_count": null,
      "outputs": [
        {
          "output_type": "stream",
          "name": "stdout",
          "text": [
            "Hello, World!\n"
          ]
        }
      ]
    },
    {
      "cell_type": "markdown",
      "source": [
        "2. Calculate the area of a rectangle given its length and width."
      ],
      "metadata": {
        "id": "BnFU24oCy0EQ"
      }
    },
    {
      "cell_type": "code",
      "source": [
        "def rectangle_area(length, width):\n",
        "    return length * width\n",
        "\n",
        "length = float(input(\"Length of the rectangle: \"))\n",
        "width = float(input(\"Width of the rectangle: \"))\n",
        "area = rectangle_area(length, width)\n",
        "print(f\"Area = {area}\")"
      ],
      "metadata": {
        "id": "8o-l1D7-0wyX",
        "colab": {
          "base_uri": "https://localhost:8080/"
        },
        "outputId": "24272a4b-b576-48a7-b68c-a0a30662081c"
      },
      "execution_count": null,
      "outputs": [
        {
          "output_type": "stream",
          "name": "stdout",
          "text": [
            "Length of the rectangle: 10\n",
            "Width of the rectangle: 6\n",
            "Area = 60.0\n"
          ]
        }
      ]
    },
    {
      "cell_type": "markdown",
      "source": [
        "3. Convert temperature from Celsius to Fahrenheit and vice versa."
      ],
      "metadata": {
        "id": "MpjcUJpWy2O_"
      }
    },
    {
      "cell_type": "code",
      "source": [
        "def celsius_to_fahrenheit(celsius):\n",
        "    return (celsius * 9/5) + 32\n",
        "\n",
        "def fahrenheit_to_celsius(fahrenheit):\n",
        "    return (fahrenheit - 32) * 5/9\n",
        "\n",
        "celsius = float(input(\"Enter temperature in Celsius: \"))\n",
        "print(\"Celsius to Fahrenheit:\", celsius_to_fahrenheit(celsius))\n",
        "farenheit = float(input(\"Enter temperature in Fahrenheit: \"))\n",
        "print(\"Fahrenheit to Celsius:\", fahrenheit_to_celsius(farenheit))"
      ],
      "metadata": {
        "colab": {
          "base_uri": "https://localhost:8080/"
        },
        "id": "SuHV61cA3p-c",
        "outputId": "e3768b42-64d3-4a9e-991f-b505ed17d18b"
      },
      "execution_count": null,
      "outputs": [
        {
          "output_type": "stream",
          "name": "stdout",
          "text": [
            "Enter temperature in Celsius: 25\n",
            "Celsius to Fahrenheit: 77.0\n",
            "Enter temperature in Fahrenheit: 77\n",
            "Fahrenheit to Celsius: 25.0\n"
          ]
        }
      ]
    },
    {
      "cell_type": "markdown",
      "source": [
        "\n",
        "4. Create a list of numbers and print the sum of all the elements."
      ],
      "metadata": {
        "id": "x3cPbve-y2MG"
      }
    },
    {
      "cell_type": "code",
      "source": [
        "numbers = [1, 2, 3, 4, 5]\n",
        "print(\"Sum of list:\", sum(numbers))"
      ],
      "metadata": {
        "colab": {
          "base_uri": "https://localhost:8080/"
        },
        "id": "kPvs8SXp3345",
        "outputId": "14e03d30-1f79-4588-9b70-a5f924ce659a"
      },
      "execution_count": null,
      "outputs": [
        {
          "output_type": "stream",
          "name": "stdout",
          "text": [
            "Sum of list: 15\n"
          ]
        }
      ]
    },
    {
      "cell_type": "markdown",
      "source": [
        "5. Write a program to check if a given number is even or odd."
      ],
      "metadata": {
        "id": "cqkgEWBCy2Iz"
      }
    },
    {
      "cell_type": "code",
      "source": [
        "def check_even_odd(n):\n",
        "    return \"Number is Even\" if n % 2 == 0 else \"Number is Odd\"\n",
        "\n",
        "number1 = int(input(\"Enter a number: \"))\n",
        "print(check_even_odd(number1))\n",
        "number2 = int(input(\"Enter a number: \"))\n",
        "print(check_even_odd(number2))"
      ],
      "metadata": {
        "id": "Neacy0ju4AyF",
        "colab": {
          "base_uri": "https://localhost:8080/"
        },
        "outputId": "4582b26f-9ea6-4d86-9193-22fb7656f491"
      },
      "execution_count": null,
      "outputs": [
        {
          "output_type": "stream",
          "name": "stdout",
          "text": [
            "Enter a number: 5\n",
            "Number is Odd\n",
            "Enter a number: 6\n",
            "Number is Even\n"
          ]
        }
      ]
    },
    {
      "cell_type": "markdown",
      "source": [
        "\n",
        "6. Generate a random number between 1 and 100 and ask the user to guess it."
      ],
      "metadata": {
        "id": "Oqs6G4gqy2Fs"
      }
    },
    {
      "cell_type": "code",
      "source": [
        "import random\n",
        "def guess_number():\n",
        "    target = random.randint(1, 100)\n",
        "    guess = int(input(\"Guess a number between 1-100: \"))\n",
        "    if guess == target:\n",
        "        print(\"Correct\")\n",
        "    else:\n",
        "        print(f\"Wrong, correct number was: {target}\")\n",
        "\n",
        "guess_number()"
      ],
      "metadata": {
        "colab": {
          "base_uri": "https://localhost:8080/"
        },
        "id": "WPJiAM7X4KPj",
        "outputId": "e3efc8cd-60c9-49c3-8b1f-488c905c15e3"
      },
      "execution_count": null,
      "outputs": [
        {
          "output_type": "stream",
          "name": "stdout",
          "text": [
            "Guess a number between 1-100: 36\n",
            "Wrong, correct number was: 15\n"
          ]
        }
      ]
    },
    {
      "cell_type": "markdown",
      "source": [
        "7. Write a function to check if a given string is a palindrome."
      ],
      "metadata": {
        "id": "V5-3CxJmy2Cc"
      }
    },
    {
      "cell_type": "code",
      "source": [
        "def is_palindrome(s):\n",
        "    return s == s[::-1]\n",
        "\n",
        "print(is_palindrome(\"racecar\"))\n",
        "print(is_palindrome(\"hello\"))"
      ],
      "metadata": {
        "id": "FsVUWduS4jAF",
        "colab": {
          "base_uri": "https://localhost:8080/"
        },
        "outputId": "b3fd5080-b385-42f8-c5d6-e74ebe64da12"
      },
      "execution_count": null,
      "outputs": [
        {
          "output_type": "stream",
          "name": "stdout",
          "text": [
            "True\n",
            "False\n"
          ]
        }
      ]
    },
    {
      "cell_type": "markdown",
      "source": [
        "8. Calculate the factorial of a given number."
      ],
      "metadata": {
        "id": "WOvGv8QSy1-S"
      }
    },
    {
      "cell_type": "code",
      "source": [
        "def factorial(n):\n",
        "    return 1 if n == 0 else n * factorial(n-1)\n",
        "\n",
        "print(factorial(4))\n",
        "print(factorial(5))"
      ],
      "metadata": {
        "colab": {
          "base_uri": "https://localhost:8080/"
        },
        "id": "5wwqwn37449k",
        "outputId": "4c24f42f-84c1-42af-e5d4-ea94894e35b4"
      },
      "execution_count": null,
      "outputs": [
        {
          "output_type": "stream",
          "name": "stdout",
          "text": [
            "24\n",
            "120\n"
          ]
        }
      ]
    },
    {
      "cell_type": "markdown",
      "source": [
        "9. Write a program to find the largest element in a list."
      ],
      "metadata": {
        "id": "ccVdJmY6y17s"
      }
    },
    {
      "cell_type": "code",
      "source": [
        "numbers = [10, 20, 30, 40, 50, 100]\n",
        "largest_number = max(numbers)\n",
        "print(\"Largest element in the list:\", largest_number)"
      ],
      "metadata": {
        "id": "hwsaznmc49-8",
        "colab": {
          "base_uri": "https://localhost:8080/"
        },
        "outputId": "869a867e-6de1-4e4f-c8fe-f83ae70a2e40"
      },
      "execution_count": null,
      "outputs": [
        {
          "output_type": "stream",
          "name": "stdout",
          "text": [
            "Largest element in the list: 100\n"
          ]
        }
      ]
    },
    {
      "cell_type": "markdown",
      "source": [
        "10. Create a simple calculator that can perform addition, subtraction, multiplication, and\n",
        "division."
      ],
      "metadata": {
        "id": "6PEiU305y14s"
      }
    },
    {
      "cell_type": "code",
      "source": [
        "def calculator(a, b, operation):\n",
        "    if operation == '+': return a + b\n",
        "    if operation == '-': return a - b\n",
        "    if operation == '*': return a * b\n",
        "    if operation == '/': return a / b if b != 0 else \"Cannot divide by zero\"\n",
        "    return \"Invalid operation\"\n",
        "\n",
        "operation = input(\"Enter operation (+, -, *, /): \")\n",
        "a = float(input(\"Enter first number: \"))\n",
        "b = float(input(\"Enter second number: \"))\n",
        "print(calculator(a, b, operation))"
      ],
      "metadata": {
        "colab": {
          "base_uri": "https://localhost:8080/"
        },
        "id": "YiK21FCaKfjp",
        "outputId": "f1873b1e-fce8-4fce-a4f7-beeb3d866c74"
      },
      "execution_count": null,
      "outputs": [
        {
          "output_type": "stream",
          "name": "stdout",
          "text": [
            "Enter operation (+, -, *, /): +\n",
            "Enter first number: 6\n",
            "Enter second number: 4\n",
            "10.0\n"
          ]
        }
      ]
    },
    {
      "cell_type": "markdown",
      "source": [
        "11. Write a function to find the square root of a number using Newton's method."
      ],
      "metadata": {
        "id": "kspOdzvEy118"
      }
    },
    {
      "cell_type": "code",
      "source": [
        "def sqrt_newton(n, iterations=10):\n",
        "    x = n\n",
        "    for _ in range(iterations):\n",
        "        x = 0.5 * (x + n / x)\n",
        "    return x\n",
        "\n",
        "num = float(input(\"Enter a number: \"))\n",
        "print(\"Square root:\", sqrt_newton(num))"
      ],
      "metadata": {
        "id": "raTcq-ZJ5HYc",
        "colab": {
          "base_uri": "https://localhost:8080/"
        },
        "outputId": "2becd70c-6bb9-4c91-8fd2-733694f6bd55"
      },
      "execution_count": null,
      "outputs": [
        {
          "output_type": "stream",
          "name": "stdout",
          "text": [
            "Enter a number: 4\n",
            "Square root: 2.0\n"
          ]
        }
      ]
    },
    {
      "cell_type": "markdown",
      "source": [
        "\n",
        "12. Reverse a given list without using the reverse() method."
      ],
      "metadata": {
        "id": "ny2arA0Yy1zW"
      }
    },
    {
      "cell_type": "code",
      "source": [
        "def reverse_list(lst):\n",
        "    return lst[::-1]\n",
        "print(\"Original list:\", numbers)\n",
        "print(\"Reversed list:\", reverse_list(numbers))"
      ],
      "metadata": {
        "colab": {
          "base_uri": "https://localhost:8080/"
        },
        "id": "eC4lc5Uc5NsS",
        "outputId": "51ffa42c-cf9b-4f4f-86c5-03b8e5c27459"
      },
      "execution_count": null,
      "outputs": [
        {
          "output_type": "stream",
          "name": "stdout",
          "text": [
            "Original list: [10, 20, 30, 40, 50, 100]\n",
            "Reversed list: [100, 50, 40, 30, 20, 10]\n"
          ]
        }
      ]
    },
    {
      "cell_type": "markdown",
      "source": [
        "\n",
        "13. Write a program to find all the prime numbers between 1 and 100."
      ],
      "metadata": {
        "id": "NUApZF4Zy1wk"
      }
    },
    {
      "cell_type": "code",
      "source": [
        "import math\n",
        "def is_prime(n):\n",
        "    if n < 2:\n",
        "        return False\n",
        "    for i in range(2, int(math.sqrt(n)) + 1):\n",
        "        if n % i == 0:\n",
        "            return False\n",
        "    return True\n",
        "\n",
        "primes = [n for n in range(1, 101) if is_prime(n)]\n",
        "print(\"Prime numbers from 1 to 100:\", primes)"
      ],
      "metadata": {
        "colab": {
          "base_uri": "https://localhost:8080/"
        },
        "id": "NGfnGLnTLtTA",
        "outputId": "afedcba7-27a1-4fa2-af14-ef658043941b"
      },
      "execution_count": null,
      "outputs": [
        {
          "output_type": "stream",
          "name": "stdout",
          "text": [
            "Prime numbers from 1 to 100: [2, 3, 5, 7, 11, 13, 17, 19, 23, 29, 31, 37, 41, 43, 47, 53, 59, 61, 67, 71, 73, 79, 83, 89, 97]\n"
          ]
        }
      ]
    },
    {
      "cell_type": "markdown",
      "source": [
        "\n",
        "14. Calculate the Fibonacci sequence up to a given number."
      ],
      "metadata": {
        "id": "cJ0-wZLky1uQ"
      }
    },
    {
      "cell_type": "code",
      "source": [
        "def fibonacci(n):\n",
        "    fib_seq = [0, 1]\n",
        "    while fib_seq[-1] + fib_seq[-2] <= n:\n",
        "        fib_seq.append(fib_seq[-1] + fib_seq[-2])\n",
        "    return fib_seq\n",
        "\n",
        "input_number = int(input(\"Enter a number: \"))\n",
        "print(fibonacci(input_number))"
      ],
      "metadata": {
        "colab": {
          "base_uri": "https://localhost:8080/"
        },
        "id": "06cbMf945XYT",
        "outputId": "75c58269-63b6-47ec-a98a-a4385a3d699d"
      },
      "execution_count": null,
      "outputs": [
        {
          "output_type": "stream",
          "name": "stdout",
          "text": [
            "Enter a number: 40\n",
            "[0, 1, 1, 2, 3, 5, 8, 13, 21, 34]\n"
          ]
        }
      ]
    },
    {
      "cell_type": "markdown",
      "source": [
        "\n",
        "15. Write a function to count the number of vowels in a given string."
      ],
      "metadata": {
        "id": "ZI0Y1QJdy1rk"
      }
    },
    {
      "cell_type": "code",
      "source": [
        "def count_vowels(s):\n",
        "    return sum(1 for c in s.lower() if c in \"aeiou\")\n",
        "\n",
        "input_string = input(\"Enter a string: \")\n",
        "print(\"No. of vowels =\",count_vowels(input_string))"
      ],
      "metadata": {
        "id": "W9S8NMm_5cd_",
        "colab": {
          "base_uri": "https://localhost:8080/"
        },
        "outputId": "d336a989-fbf5-4a69-d2e8-87f819ef4447"
      },
      "execution_count": null,
      "outputs": [
        {
          "output_type": "stream",
          "name": "stdout",
          "text": [
            "Enter a string: my name is anish\n",
            "No. of vowels = 5\n"
          ]
        }
      ]
    },
    {
      "cell_type": "markdown",
      "source": [
        "\n",
        "16. Check if a given year is a leap year."
      ],
      "metadata": {
        "id": "xtDkHEtay1o8"
      }
    },
    {
      "cell_type": "code",
      "source": [
        "def is_leap_year(year):\n",
        "    return (year % 4 == 0 and year % 100 != 0) or (year % 400 == 0)\n",
        "\n",
        "year = int(input(\"Enter a year: \"))\n",
        "if is_leap_year(year):\n",
        "    print(f\"{year} is a leap year.\")\n",
        "else:\n",
        "    print(f\"{year} is not a leap year.\")"
      ],
      "metadata": {
        "colab": {
          "base_uri": "https://localhost:8080/"
        },
        "id": "GX6X0SEm5gtR",
        "outputId": "e47e6d15-c03e-4e68-bf5b-4e808d8723d0"
      },
      "execution_count": null,
      "outputs": [
        {
          "output_type": "stream",
          "name": "stdout",
          "text": [
            "Enter a year: 2025\n",
            "2025 is not a leap year.\n"
          ]
        }
      ]
    },
    {
      "cell_type": "markdown",
      "source": [
        "\n",
        "17. Remove duplicates from a list without using sets."
      ],
      "metadata": {
        "id": "NHXOcLw3y1mU"
      }
    },
    {
      "cell_type": "code",
      "source": [
        "def remove_duplicates(lst):\n",
        "    unique = []\n",
        "    for num in lst:\n",
        "        if num not in unique:\n",
        "            unique.append(num)\n",
        "    return unique\n",
        "list1 = [1, 2, 2, 3, 4, 4, 5, 6, 7]\n",
        "print(\"Original list:\", list1)\n",
        "print(\"List without duplicates:\", remove_duplicates(list1))"
      ],
      "metadata": {
        "id": "ppAWUVX25kZ-",
        "colab": {
          "base_uri": "https://localhost:8080/"
        },
        "outputId": "7eb860b9-6a4e-4ac4-f57c-bbc494a9381c"
      },
      "execution_count": null,
      "outputs": [
        {
          "output_type": "stream",
          "name": "stdout",
          "text": [
            "Original list: [1, 2, 2, 3, 4, 4, 5, 6, 7]\n",
            "List without duplicates: [1, 2, 3, 4, 5, 6, 7]\n"
          ]
        }
      ]
    },
    {
      "cell_type": "markdown",
      "source": [
        "18. Write a program to sort a list of numbers using bubble sort."
      ],
      "metadata": {
        "id": "fDzhJhgky1jl"
      }
    },
    {
      "cell_type": "code",
      "source": [
        "def bubble_sort(lst):\n",
        "    n = len(lst)\n",
        "    for i in range(n):\n",
        "        for j in range(0, n-i-1):\n",
        "            if lst[j] > lst[j+1]:\n",
        "                lst[j], lst[j+1] = lst[j+1], lst[j]\n",
        "    return lst\n",
        "\n",
        "list1 = [5, 3, 8, 6, 7, 2]\n",
        "print(\"Original list:\", list1)\n",
        "print(\"Sorted list:\", bubble_sort(list1))"
      ],
      "metadata": {
        "colab": {
          "base_uri": "https://localhost:8080/"
        },
        "id": "EChqTs0M5qwT",
        "outputId": "8f85fe7e-b756-4893-a98a-6ce389f92c68"
      },
      "execution_count": null,
      "outputs": [
        {
          "output_type": "stream",
          "name": "stdout",
          "text": [
            "Original list: [5, 3, 8, 6, 7, 2]\n",
            "Sorted list: [2, 3, 5, 6, 7, 8]\n"
          ]
        }
      ]
    },
    {
      "cell_type": "markdown",
      "source": [
        "19. Create a dictionary of names and ages, and print the name of the oldest person."
      ],
      "metadata": {
        "id": "rDOz7QWEy1g7"
      }
    },
    {
      "cell_type": "code",
      "source": [
        "people = {\"Alice\": 10, \"Bob\": 20, \"Charlie\": 30}\n",
        "oldest = max(people, key=people.get)\n",
        "print(\"Oldest person:\", oldest)"
      ],
      "metadata": {
        "colab": {
          "base_uri": "https://localhost:8080/"
        },
        "id": "3GpUObbv5wAI",
        "outputId": "71ed135e-b304-4909-b9ba-3c6fe1a9c6f8"
      },
      "execution_count": null,
      "outputs": [
        {
          "output_type": "stream",
          "name": "stdout",
          "text": [
            "Oldest person: Charlie\n"
          ]
        }
      ]
    },
    {
      "cell_type": "markdown",
      "source": [
        "20. Write a program to find the least common multiple (LCM) of two numbers."
      ],
      "metadata": {
        "id": "sjE67TAOy1ei"
      }
    },
    {
      "cell_type": "code",
      "source": [
        "def lcm(a, b):\n",
        "    return abs(a * b) // math.gcd(a, b)\n",
        "\n",
        "num1 = int(input(\"Enter first number: \"))\n",
        "num2 = int(input(\"Enter second number: \"))\n",
        "print(f\"LCM of {num1} and {num2}:\", lcm(num1, num2))"
      ],
      "metadata": {
        "colab": {
          "base_uri": "https://localhost:8080/"
        },
        "id": "Gf5INNyO51LH",
        "outputId": "a2d6b33d-5907-4f1f-abcc-97c6f3d34b86"
      },
      "execution_count": null,
      "outputs": [
        {
          "output_type": "stream",
          "name": "stdout",
          "text": [
            "Enter first number: 10\n",
            "Enter second number: 15\n",
            "LCM of 10 and 15: 30\n"
          ]
        }
      ]
    }
  ]
}