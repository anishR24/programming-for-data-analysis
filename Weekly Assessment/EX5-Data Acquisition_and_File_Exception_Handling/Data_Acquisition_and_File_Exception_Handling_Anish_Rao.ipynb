{
  "nbformat": 4,
  "nbformat_minor": 0,
  "metadata": {
    "colab": {
      "provenance": []
    },
    "kernelspec": {
      "name": "python3",
      "display_name": "Python 3"
    },
    "language_info": {
      "name": "python"
    }
  },
  "cells": [
    {
      "cell_type": "markdown",
      "source": [
        "## **Exercise 5: Data Acquisition and File Exception Handling**"
      ],
      "metadata": {
        "id": "EEkhXCdEtI-2"
      }
    },
    {
      "cell_type": "markdown",
      "source": [
        "---\n",
        "Name - Anish Rao\n",
        "\n",
        "Student Number - 20066423\n",
        "\n",
        "Group - C\n",
        "\n",
        "---\n",
        "\n",
        "[Colab Notebook Link](https://colab.research.google.com/drive/1MZznfATB45Or1D0HFO1toz_Kl61gaFP3#scrollTo=d4kQPxohxXaR)"
      ],
      "metadata": {
        "id": "jLAcgRCptnHJ"
      }
    },
    {
      "cell_type": "markdown",
      "source": [
        "## Python File and Exception Handling"
      ],
      "metadata": {
        "id": "YpPQh6T_NDyN"
      }
    },
    {
      "cell_type": "markdown",
      "source": [
        "1. Write a Python program to open a file named \"example.txt\" in write mode, write\n",
        "\"Hello, World!\" to it, and then close the file."
      ],
      "metadata": {
        "id": "d4kQPxohxXaR"
      }
    },
    {
      "cell_type": "code",
      "source": [
        "f = open(\"example.txt\", \"w\")\n",
        "f.write(\"Hello, World!\")\n",
        "f.close()"
      ],
      "metadata": {
        "id": "wfP7JHrk0jnM"
      },
      "execution_count": 8,
      "outputs": []
    },
    {
      "cell_type": "markdown",
      "source": [
        "2. Modify the program in question 1 to handle the exception if the file cannot be\n",
        "opened."
      ],
      "metadata": {
        "id": "BnFU24oCy0EQ"
      }
    },
    {
      "cell_type": "code",
      "source": [
        "try:\n",
        "    f = open(\"example.txt\", \"w\")\n",
        "    f.write(\"Hello, World!\")\n",
        "    f.close()\n",
        "except IOError:\n",
        "    print(\"Error: Could not open or write to the file.\")\n"
      ],
      "metadata": {
        "id": "8o-l1D7-0wyX"
      },
      "execution_count": 13,
      "outputs": []
    },
    {
      "cell_type": "markdown",
      "source": [
        "3. Write a Python program to read the contents of \"example.txt\" and print them to\n",
        "the console. Use exception handling to catch any errors."
      ],
      "metadata": {
        "id": "MpjcUJpWy2O_"
      }
    },
    {
      "cell_type": "code",
      "source": [
        "try:\n",
        "    f = open(\"example.txt\", \"r\")\n",
        "    print(f.read())\n",
        "except Exception as e:\n",
        "    print(\"Error:\", e)\n",
        "finally:\n",
        "    try:\n",
        "        f.close()\n",
        "    except:\n",
        "        pass"
      ],
      "metadata": {
        "colab": {
          "base_uri": "https://localhost:8080/"
        },
        "id": "SuHV61cA3p-c",
        "outputId": "ea484353-7bdd-4944-e157-7c0bf53ee850"
      },
      "execution_count": 14,
      "outputs": [
        {
          "output_type": "stream",
          "name": "stdout",
          "text": [
            "Hello, World!\n"
          ]
        }
      ]
    },
    {
      "cell_type": "markdown",
      "source": [
        "4. Write a Python program that attempts to open a non-existent file \"missing.txt\"\n",
        "and handles the FileNotFoundError gracefully."
      ],
      "metadata": {
        "id": "x3cPbve-y2MG"
      }
    },
    {
      "cell_type": "code",
      "source": [
        "try:\n",
        "    f = open(\"missing.txt\", \"r\")\n",
        "    print(f.read())\n",
        "except FileNotFoundError:\n",
        "    print(\"File 'missing.txt' not found.\")"
      ],
      "metadata": {
        "colab": {
          "base_uri": "https://localhost:8080/"
        },
        "id": "kPvs8SXp3345",
        "outputId": "aa1ba377-08ca-4ad5-901c-6dc253bb40f6"
      },
      "execution_count": 12,
      "outputs": [
        {
          "output_type": "stream",
          "name": "stdout",
          "text": [
            "File 'missing.txt' not found.\n"
          ]
        }
      ]
    },
    {
      "cell_type": "markdown",
      "source": [
        "5. Create a Python program that writes a list of numbers (1 to 10) to a file, then\n",
        "reads the file and prints each number. Handle any potential exceptions."
      ],
      "metadata": {
        "id": "cqkgEWBCy2Iz"
      }
    },
    {
      "cell_type": "code",
      "source": [
        "try:\n",
        "    with open(\"numbers.txt\", \"w\") as f:\n",
        "        for i in range(1, 11):\n",
        "            f.write(str(i) + \"\\n\")\n",
        "    with open(\"numbers.txt\", \"r\") as f:\n",
        "        for line in f:\n",
        "            print(line.strip())\n",
        "except Exception as e:\n",
        "    print(\"Error:\", e)"
      ],
      "metadata": {
        "id": "Neacy0ju4AyF",
        "colab": {
          "base_uri": "https://localhost:8080/"
        },
        "outputId": "e0f78eeb-afa3-4259-dd4c-336dee1310b3"
      },
      "execution_count": 17,
      "outputs": [
        {
          "output_type": "stream",
          "name": "stdout",
          "text": [
            "1\n",
            "2\n",
            "3\n",
            "4\n",
            "5\n",
            "6\n",
            "7\n",
            "8\n",
            "9\n",
            "10\n"
          ]
        }
      ]
    },
    {
      "cell_type": "markdown",
      "source": [
        "6. Write a Python program that opens a file, reads its content line by line using a\n",
        "loop, and prints each line. Include exception handling."
      ],
      "metadata": {
        "id": "Oqs6G4gqy2Fs"
      }
    },
    {
      "cell_type": "code",
      "source": [
        "try:\n",
        "    f = open(\"example.txt\", \"r\")\n",
        "    for line in f:\n",
        "        print(line.strip())\n",
        "except Exception as e:\n",
        "    print(\"Error:\", e)\n",
        "finally:\n",
        "    try:\n",
        "        f.close()\n",
        "    except:\n",
        "        pass"
      ],
      "metadata": {
        "colab": {
          "base_uri": "https://localhost:8080/"
        },
        "id": "WPJiAM7X4KPj",
        "outputId": "cc2a47a4-898d-4705-bd46-0f38d4bef130"
      },
      "execution_count": 19,
      "outputs": [
        {
          "output_type": "stream",
          "name": "stdout",
          "text": [
            "Hello, World!\n"
          ]
        }
      ]
    },
    {
      "cell_type": "markdown",
      "source": [
        "7. Write a Python program that attempts to divide two numbers, taking user input,\n",
        "and handles the ZeroDivisionError if the user enters zero as the denominator."
      ],
      "metadata": {
        "id": "V5-3CxJmy2Cc"
      }
    },
    {
      "cell_type": "code",
      "source": [
        "try:\n",
        "    num = float(input(\"Enter numerator: \"))\n",
        "    den = float(input(\"Enter denominator: \"))\n",
        "    print(\"Result:\", num / den)\n",
        "except ZeroDivisionError:\n",
        "    print(\"Error: Cannot divide by zero.\")"
      ],
      "metadata": {
        "id": "FsVUWduS4jAF",
        "colab": {
          "base_uri": "https://localhost:8080/"
        },
        "outputId": "e154c9f6-761d-4061-ee92-c4a45ef661c1"
      },
      "execution_count": 20,
      "outputs": [
        {
          "output_type": "stream",
          "name": "stdout",
          "text": [
            "Enter numerator: 5\n",
            "Enter denominator: 0\n",
            "Error: Cannot divide by zero.\n"
          ]
        }
      ]
    },
    {
      "cell_type": "markdown",
      "source": [
        "8. Modify question 7 to handle ValueError if the user inputs a non-numeric value\n",
        "instead of a number."
      ],
      "metadata": {
        "id": "WOvGv8QSy1-S"
      }
    },
    {
      "cell_type": "code",
      "source": [
        "try:\n",
        "    num = float(input(\"Enter numerator: \"))\n",
        "    den = float(input(\"Enter denominator: \"))\n",
        "    print(\"Result:\", num / den)\n",
        "except ZeroDivisionError:\n",
        "    print(\"Error: Cannot divide by zero.\")\n",
        "except ValueError:\n",
        "    print(\"Error: Please enter valid numeric values.\")"
      ],
      "metadata": {
        "colab": {
          "base_uri": "https://localhost:8080/"
        },
        "id": "5wwqwn37449k",
        "outputId": "c94a5ee3-7af7-4425-caa9-27818f2c6e08"
      },
      "execution_count": 21,
      "outputs": [
        {
          "output_type": "stream",
          "name": "stdout",
          "text": [
            "Enter numerator: 5\n",
            "Enter denominator: apple\n",
            "Error: Please enter valid numeric values.\n"
          ]
        }
      ]
    },
    {
      "cell_type": "markdown",
      "source": [
        "9. Write a Python program that attempts to open a file and uses a try-except-finally\n",
        "block to ensure the file is always closed properly."
      ],
      "metadata": {
        "id": "ccVdJmY6y17s"
      }
    },
    {
      "cell_type": "code",
      "source": [
        "try:\n",
        "    f = open(\"example.txt\", \"r\")\n",
        "    print(f.read())\n",
        "except Exception as e:\n",
        "    print(\"Error:\", e)\n",
        "finally:\n",
        "    try:\n",
        "        f.close()\n",
        "    except:\n",
        "        pass"
      ],
      "metadata": {
        "id": "hwsaznmc49-8",
        "colab": {
          "base_uri": "https://localhost:8080/"
        },
        "outputId": "3eaa097d-0b8f-4fef-e1c2-63e834839933"
      },
      "execution_count": 23,
      "outputs": [
        {
          "output_type": "stream",
          "name": "stdout",
          "text": [
            "Hello, World!\n"
          ]
        }
      ]
    },
    {
      "cell_type": "markdown",
      "source": [
        "10. Write a Python program that checks if a file exists before opening it. If the file\n",
        "exists, print its contents; otherwise, print a message stating that the file does not\n",
        "exist."
      ],
      "metadata": {
        "id": "6PEiU305y14s"
      }
    },
    {
      "cell_type": "code",
      "source": [
        "import os\n",
        "filename = \"example1.txt\"\n",
        "if os.path.exists(filename):\n",
        "    with open(filename, \"r\") as f:\n",
        "        print(\"Contents of\", filename, \":\\n\", f.read())\n",
        "else:\n",
        "    print(\"File\", filename, \"does not exist.\")"
      ],
      "metadata": {
        "colab": {
          "base_uri": "https://localhost:8080/"
        },
        "id": "YiK21FCaKfjp",
        "outputId": "09391b56-667f-4a10-af96-9ddf62aecc80"
      },
      "execution_count": 25,
      "outputs": [
        {
          "output_type": "stream",
          "name": "stdout",
          "text": [
            "File example1.txt does not exist.\n"
          ]
        }
      ]
    },
    {
      "cell_type": "markdown",
      "source": [
        "## Data Acquisition"
      ],
      "metadata": {
        "id": "7Xe9JKutNPEW"
      }
    },
    {
      "cell_type": "markdown",
      "source": [
        "11. Write a Python program to read data from a CSV file named \"data.csv\" and print\n",
        "its contents."
      ],
      "metadata": {
        "id": "kspOdzvEy118"
      }
    },
    {
      "cell_type": "code",
      "source": [
        "import pandas as pd\n",
        "\n",
        "try:\n",
        "    df = pd.read_csv(\"data.csv\")\n",
        "    print(df.tail())\n",
        "except Exception as e:\n",
        "    print(\"Error reading data.csv:\", e)"
      ],
      "metadata": {
        "id": "raTcq-ZJ5HYc",
        "colab": {
          "base_uri": "https://localhost:8080/"
        },
        "outputId": "953b9405-be54-452b-cfaa-bad409ddc71f"
      },
      "execution_count": 31,
      "outputs": [
        {
          "output_type": "stream",
          "name": "stdout",
          "text": [
            "    Code Symbol                    Name\n",
            "158  XOF    CFA  West African CFA franc\n",
            "159  XPF     Fr               CFP franc\n",
            "160  YER      ﷼             Yemeni rial\n",
            "161  ZAR      R      South African rand\n",
            "162  ZMW     ZK          Zambian kwacha\n"
          ]
        }
      ]
    },
    {
      "cell_type": "markdown",
      "source": [
        "12. Write a Python program that reads an Excel file (data.xlsx) and prints the first five\n",
        "rows using the pandas library."
      ],
      "metadata": {
        "id": "ny2arA0Yy1zW"
      }
    },
    {
      "cell_type": "code",
      "source": [
        "try:\n",
        "    df = pd.read_excel(\"data.xlsx\")\n",
        "    print(\"First 5 rows:\\n\", df.head(5))\n",
        "except Exception as e:\n",
        "    print(\"Error reading data.xlsx:\", e)"
      ],
      "metadata": {
        "colab": {
          "base_uri": "https://localhost:8080/"
        },
        "id": "eC4lc5Uc5NsS",
        "outputId": "910450c8-d2b5-417c-b3b0-e298e4b64db2"
      },
      "execution_count": 34,
      "outputs": [
        {
          "output_type": "stream",
          "name": "stdout",
          "text": [
            "First 5 rows:\n",
            "    Postcode  Sales_Rep_ID Sales_Rep_Name  Year         Value\n",
            "0      2121           456           Jane  2011  84219.497311\n",
            "1      2092           789         Ashish  2012  28322.192268\n",
            "2      2128           456           Jane  2013  81878.997241\n",
            "3      2073           123           John  2011  44491.142121\n",
            "4      2134           789         Ashish  2012  71837.720959\n"
          ]
        }
      ]
    },
    {
      "cell_type": "markdown",
      "source": [
        "13. Write a Python script to collect stock market data from an API (e.g., Alpha\n",
        "Vantage or Yahoo Finance) and display the latest stock price for a given\n",
        "company."
      ],
      "metadata": {
        "id": "NUApZF4Zy1wk"
      }
    },
    {
      "cell_type": "code",
      "source": [
        "import yfinance as yf\n",
        "ticker = input(\"Enter the stock ticker (e.g., AAPL): \")\n",
        "try:\n",
        "    stock = yf.Ticker(ticker)\n",
        "    data = stock.history(period=\"1d\")\n",
        "    latest_price = data['Close'].iloc[-1]\n",
        "    print(\"Latest price for\", ticker, \":\", latest_price)\n",
        "except Exception as e:\n",
        "    print(\"Error fetching stock data:\", e)"
      ],
      "metadata": {
        "colab": {
          "base_uri": "https://localhost:8080/"
        },
        "id": "NGfnGLnTLtTA",
        "outputId": "fdca2b15-7ba7-4e52-adf5-198dc8ee6a10"
      },
      "execution_count": 35,
      "outputs": [
        {
          "output_type": "stream",
          "name": "stdout",
          "text": [
            "Enter the stock ticker (e.g., AAPL): AAPL\n",
            "Latest price for AAPL : 247.97000122070312\n"
          ]
        }
      ]
    },
    {
      "cell_type": "markdown",
      "source": [
        "14. Write a Python program to check if a given dataset file (dataset.csv) exists before\n",
        "attempting to read it. If it doesn't exist, print a message informing the user."
      ],
      "metadata": {
        "id": "cJ0-wZLky1uQ"
      }
    },
    {
      "cell_type": "code",
      "source": [
        "filename = \"dataset.csv\"\n",
        "if os.path.exists(filename):\n",
        "    with open(filename, \"r\") as f:\n",
        "        print(\"Contents of dataset.csv:\\n\", f.read())\n",
        "else:\n",
        "    print(\"File 'dataset.csv' does not exist.\")"
      ],
      "metadata": {
        "colab": {
          "base_uri": "https://localhost:8080/"
        },
        "id": "06cbMf945XYT",
        "outputId": "7476d861-f108-475f-d4a9-39ea59bce903"
      },
      "execution_count": 36,
      "outputs": [
        {
          "output_type": "stream",
          "name": "stdout",
          "text": [
            "File 'dataset.csv' does not exist.\n"
          ]
        }
      ]
    },
    {
      "cell_type": "markdown",
      "source": [
        "## Web Scraping Questions"
      ],
      "metadata": {
        "id": "AuV0wSklNass"
      }
    },
    {
      "cell_type": "markdown",
      "source": [
        "15. Write a Python script using requests and BeautifulSoup to extract the title of a\n",
        "webpage (e.g., \"https://dbs.ie/\")."
      ],
      "metadata": {
        "id": "ZI0Y1QJdy1rk"
      }
    },
    {
      "cell_type": "markdown",
      "source": [
        "**Note** - `https://dbs.ie/` was not working properly so used `https://met.ie/`"
      ],
      "metadata": {
        "id": "VsIf2IPjYbZF"
      }
    },
    {
      "cell_type": "code",
      "source": [
        "import requests\n",
        "from bs4 import BeautifulSoup\n",
        "url = \"https://met.ie/\"\n",
        "try:\n",
        "    response = requests.get(url)\n",
        "    soup = BeautifulSoup(response.content, \"html.parser\")\n",
        "    print(\"Page Title:\", soup.title.string)\n",
        "except Exception as e:\n",
        "    print(\"Error scraping title:\", e)"
      ],
      "metadata": {
        "id": "W9S8NMm_5cd_",
        "colab": {
          "base_uri": "https://localhost:8080/"
        },
        "outputId": "3588f7ca-2368-4cfa-83dc-a096a99a9cfe"
      },
      "execution_count": 42,
      "outputs": [
        {
          "output_type": "stream",
          "name": "stdout",
          "text": [
            "Page Title: \n",
            "    Met Éireann - The Irish Meteorological Service\n"
          ]
        }
      ]
    },
    {
      "cell_type": "markdown",
      "source": [
        "16. Write a Python program that scrapes all the links (< a > tags) from the webpage in\n",
        "question 16 above and prints them.\n"
      ],
      "metadata": {
        "id": "xtDkHEtay1o8"
      }
    },
    {
      "cell_type": "code",
      "source": [
        "try:\n",
        "    response = requests.get(url)\n",
        "    soup = BeautifulSoup(response.content, \"html.parser\")\n",
        "    links = soup.find_all(\"a\")\n",
        "    for link in links:\n",
        "        print(\"Link:\", link.get(\"href\"))\n",
        "except Exception as e:\n",
        "    print(\"Error scraping links:\", e)"
      ],
      "metadata": {
        "colab": {
          "base_uri": "https://localhost:8080/"
        },
        "id": "GX6X0SEm5gtR",
        "outputId": "21e55f4d-2d51-4934-f564-53e43a869e35"
      },
      "execution_count": 43,
      "outputs": [
        {
          "output_type": "stream",
          "name": "stdout",
          "text": [
            "Link: /\n",
            "Link: #\n",
            "Link: https://www.met.ie/warnings\n",
            "Link: https://www.met.ie/forecasts/farming/graphs/fire-weather-index\n",
            "Link: https://www.met.ie/forecasts/meteoalarm\n",
            "Link: https://www.met.ie/forecasts/national-forecast\n",
            "Link: https://www.met.ie/forecasts/listen-to-the-weather-forecast\n",
            "Link: https://www.met.ie/forecasts/meteorologists-commentary\n",
            "Link: https://www.met.ie/forecasts/national-forecast/\n",
            "Link: https://www.met.ie/forecasts/atlantic-charts\n",
            "Link: https://www.met.ie/forecasts/ensemble-maps\n",
            "Link: https://www.met.ie/forecasts/marine-inland-lakes/sea-area-forecast-terminology\n",
            "Link: https://www.met.ie/forecasts/marine-inland-lakes/sea-area-forecast\n",
            "Link: https://www.met.ie/uv-index\n",
            "Link: https://www.met.ie/forecasts/farming\n",
            "Link: https://www.met.ie/forecasts/farming/agricultural-data-report\n",
            "Link: https://www.met.ie/forecasts/storm-names\n",
            "Link: https://www.met.ie/forecasts/mountains-forecast\n",
            "Link: https://www.met.ie/forecasts/farming/graphs/fire-weather-index\n",
            "Link: https://www.met.ie/forecasts/blight-forecast\n",
            "Link: https://www.met.ie/forecasts/meteoalarm\n",
            "Link: https://www.met.ie/forecasts/worldweather\n",
            "Link: #\n",
            "Link: https://www.met.ie/latest-reports/observations\n",
            "Link: https://www.met.ie/latest-reports/observations/yesterday\n",
            "Link: https://www.met.ie/latest-reports/surface-analysis\n",
            "Link: https://www.met.ie/latest-reports/satellites\n",
            "Link: https://www.met.ie/latest-reports/satellites/ireland-infrared\n",
            "Link: https://www.met.ie/latest-reports/satellites/europe-infrared\n",
            "Link: https://www.met.ie/latest-reports/satellites/world-infrared\n",
            "Link: https://www.met.ie/wow\n",
            "Link: https://www.met.ie/latest-reports/recent-rainfall-radar\n",
            "Link: https://www.met.ie/latest-reports/recent-rainfall-radar/12-hour-rainfall-radar\n",
            "Link: https://www.met.ie/latest-reports/recent-rainfall-radar/24-hour-rainfall-radar\n",
            "Link: https://www.met.ie/latest-reports/recent-rainfall-radar/48-hour-rainfall-radar\n",
            "Link: https://www.met.ie/forecasts/marine-inland-lakes/buoys\n",
            "Link: https://www.met.ie/latest-reports/valentia-tephigram\n",
            "Link: #\n",
            "Link: https://www.met.ie/climate/climate-of-ireland\n",
            "Link: https://www.met.ie/climate/climate-change\n",
            "Link: https://www.met.ie/climate/weather-extreme-records\n",
            "Link: https://www.met.ie/climate/major-weather-events\n",
            "Link: https://www.met.ie/climate/summer-centre\n",
            "Link: https://www.met.ie/climate/storm-centre\n",
            "Link: https://www.met.ie/climate/past-weather-statements\n",
            "Link: https://www.met.ie/climate/past-weather-statements/past-weather-agrometeorological-bulletins\n",
            "Link: https://www.met.ie/climate/services\n",
            "Link: https://www.met.ie/nfcs\n",
            "Link: https://www.met.ie/wow\n",
            "Link: https://www.met.ie/climate/available-data\n",
            "Link: https://www.met.ie/climate/available-data/daily-data\n",
            "Link: https://www.met.ie/climate/available-data/historical-data\n",
            "Link: https://www.met.ie/climate/available-data/monthly-data\n",
            "Link: https://www.met.ie/climate/available-data/mera\n",
            "Link: https://www.met.ie/climate/available-data/long-term-data-sets\n",
            "Link: https://www.met.ie/climate/30-year-averages\n",
            "Link: https://www.met.ie/climate/climate-change-indices-etccdi\n",
            "Link: https://www.met.ie/climate/available-data/climate-data-for-thermal-modelling-of-buildings\n",
            "Link: https://www.met.ie/climate/what-we-measure\n",
            "Link: https://www.met.ie/climate/weather-observing-stations\n",
            "Link: https://www.met.ie/climate/what-we-measure/temperature\n",
            "Link: https://www.met.ie/climate/what-we-measure/rainfall\n",
            "Link: https://www.met.ie/climate/what-we-measure/atmospheric-pressure\n",
            "Link: https://www.met.ie/climate/what-we-measure/lightning\n",
            "Link: https://www.met.ie/climate/what-we-measure/lightning/lightning-archive\n",
            "Link: https://www.met.ie/climate/what-we-measure/sunshine\n",
            "Link: https://www.met.ie/climate/what-we-measure/wind\n",
            "Link: https://www.met.ie/climate/what-we-measure/upper-air\n",
            "Link: https://www.met.ie/climate/what-we-measure/water-vapour\n",
            "Link: #\n",
            "Link: https://www.met.ie/education\n",
            "Link: https://www.met.ie/education/podcast\n",
            "Link: https://www.met.ie/weather-observations-website-wow-ie\n",
            "Link: https://www.met.ie/education/school-resources\n",
            "Link: https://www.met.ie/education/what-is-lightning\n",
            "Link: https://www.met.ie/education/the-northern-lights\n",
            "Link: https://www.met.ie/education/library/about-the-library\n",
            "Link: https://www.met.ie/education/library/special-collections\n",
            "Link: https://www.met.ie/education/how-met-eireann-produces-a-forecast\n",
            "Link: https://www.met.ie/education/conversions\n",
            "Link: https://www.met.ie/education/satellite-images-of-ireland\n",
            "Link: https://www.met.ie/education/publications\n",
            "Link: https://www.met.ie/education/publications/met-eireann-publications\n",
            "Link: https://www.met.ie/education/publications/books-published-by-met-eireann\n",
            "Link: https://www.met.ie/education/publications/climatological-data-sets\n",
            "Link: https://www.met.ie/education/publications/technical-notes\n",
            "Link: https://www.met.ie/education/publications/climatological-notes\n",
            "Link: https://www.met.ie/education/publications/historical-notes\n",
            "Link: https://www.met.ie/education/publications/climate-change-research-reports\n",
            "Link: https://www.met.ie/education/publications/agrometeorological-bulletins\n",
            "Link: https://www.met.ie/education/publications/peer-reviewed-journal-articles-by-met-eireann-staff-members\n",
            "Link: #\n",
            "Link: https://www.met.ie/science\n",
            "Link: https://www.met.ie/science/weather-and-climate-research-programme\n",
            "Link: https://www.met.ie/science/research-call-2024\n",
            "Link: https://www.met.ie/science/research-professorship-call-2023\n",
            "Link: https://www.met.ie/science/research-call-2023\n",
            "Link: https://www.met.ie/science/research-call-2021\n",
            "Link: https://www.met.ie/science/research-call-2020\n",
            "Link: https://www.met.ie/science/translate\n",
            "Link: https://www.met.ie/translate2\n",
            "Link: https://www.met.ie/science/agricultural-meteorology\n",
            "Link: https://www.met.ie/science/climate-modelling\n",
            "Link: https://www.met.ie/atlantic-meridional-overturning-circulation-amoc\n",
            "Link: https://www.met.ie/science/events\n",
            "Link: https://www.met.ie/science/events/mera-workshop-2019\n",
            "Link: https://www.met.ie/science/events/mera-workshop\n",
            "Link: https://www.met.ie/science/forecasting-centre\n",
            "Link: https://www.met.ie/science/forecasting-centre/television-weather-bulletins\n",
            "Link: https://www.met.ie/science/met-eireann-ar-an-raidio\n",
            "Link: https://www.met.ie/science/laboratory\n",
            "Link: https://www.met.ie/science/links-to-other-institutes\n",
            "Link: https://www.met.ie/science/marine-meteorology\n",
            "Link: https://www.met.ie/science/marine-meteorology/marine-climatology\n",
            "Link: https://www.met.ie/science/numerical-weather-prediction\n",
            "Link: https://www.met.ie/science/numerical-weather-prediction/operational-nwp-in-met-eireann\n",
            "Link: https://www.met.ie/science/valentia\n",
            "Link: https://www.met.ie/science/valentia/aerosol-optical-depth-measurement\n",
            "Link: https://www.met.ie/science/valentia/environmental-monitoring-air-and-rain-pollution\n",
            "Link: https://www.met.ie/science/valentia/geomagnetism\n",
            "Link: https://www.met.ie/science/valentia/lightning-detection\n",
            "Link: https://www.met.ie/science/valentia/ozone-monitoring\n",
            "Link: https://www.met.ie/science/valentia/phenology\n",
            "Link: https://www.met.ie/science/valentia/seismology\n",
            "Link: https://www.met.ie/science/valentia/solar-radiation\n",
            "Link: https://www.met.ie/science/verification\n",
            "Link: #\n",
            "Link: https://www.met.ie/forecasts/listen-to-the-weather-forecast\n",
            "Link: https://www.met.ie/education/the-met-eireann-podcast\n",
            "Link: https://www.met.ie/education/podchraoladh-met-eireann\n",
            "Link: #\n",
            "Link: https://www.met.ie/about-us\n",
            "Link: https://www.met.ie/about-us/strategy\n",
            "Link: https://www.met.ie/about-us/strategy/mission-statement\n",
            "Link: https://www.met.ie/about-us/met-eireanns-structure\n",
            "Link: https://www.met.ie/about-us/our-history\n",
            "Link: https://www.met.ie/about-us/our-history/valentia-observatory\n",
            "Link: https://www.met.ie/about-us/our-history/airports\n",
            "Link: https://www.met.ie/about-us/specialised-services\n",
            "Link: https://www.met.ie/about-us/specialised-services/flood-forecasting-centre\n",
            "Link: https://www.met.ie/about-us/specialised-services/agricultural-services\n",
            "Link: https://www.met.ie/about-us/specialised-services/aviation-services\n",
            "Link: https://www.met.ie/about-us/specialised-services/open-data\n",
            "Link: https://www.met.ie/about-us/specialised-services/widgets\n",
            "Link: https://www.met.ie/about-us/specialised-services/commercial-services\n",
            "Link: https://www.met.ie/about-us/legal-reports-information\n",
            "Link: https://www.met.ie/about-us/contact-us\n",
            "Link: https://www.met.ie/about-us/media\n",
            "Link: https://www.met.ie/about-us/latest-news\n",
            "Link: https://www.met.ie/about-us/awards\n",
            "Link: https://www.met.ie/about-us/vacancies\n",
            "Link: https://www.met.ie/about-us/faq\n",
            "Link: https://www.met.ie/about-us/help-page\n",
            "Link: https://www.met.ie/about-us/privacy\n",
            "Link: #\n",
            "Link: /warnings/today\n",
            "Link: /warnings/today\n",
            "Link: /warnings/today\n",
            "Link: /full-screen-maps\n",
            "Link: None\n",
            "Link: None\n",
            "Link: None\n",
            "Link: None\n",
            "Link: None\n",
            "Link: None\n",
            "Link: /full-screen-maps\n",
            "Link: /latest-reports/recent-rainfall-radar/12-hour-rainfall-radar\n",
            "Link: /forecasts/atlantic-charts/precipitation-pressure\n",
            "Link: /forecasts/marine-inland-lakes/waves\n",
            "Link: https://www.met.ie/latest-reports/satellites/ireland-visible\n",
            "Link: https://www.met.ie/about-us/faq \n",
            "Link: https://www.met.ie/latest-reports/surface-analysis\n",
            "Link: https://www.met.ie/forecasts/national-forecast\n",
            "Link: https://www.met.ie/climate-statement-for-january-2025\n",
            "Link: https://www.met.ie/climate-statement-for-january-2025\n",
            "Link: https://www.met.ie/climate-statement-for-january-2025\n",
            "Link: https://www.met.ie/ballinrobe-students-scoop-met-eireann-award-at-btyste\n",
            "Link: https://www.met.ie/ballinrobe-students-scoop-met-eireann-award-at-btyste\n",
            "Link: https://www.met.ie/ballinrobe-students-scoop-met-eireann-award-at-btyste\n",
            "Link: https://www.met.ie/amoc-research-meeting\n",
            "Link: https://www.met.ie/amoc-research-meeting\n",
            "Link: https://www.met.ie/amoc-research-meeting\n",
            "Link: https://www.met.ie/annual-climate-statement-for-2024\n",
            "Link: https://www.met.ie/annual-climate-statement-for-2024\n",
            "Link: https://www.met.ie/annual-climate-statement-for-2024\n",
            "Link: https://www.met.ie/about-us/latest-news\n",
            "Link: https://www.met.ie/science/agricultural-meteorology\n",
            "Link: https://www.met.ie/forecasts/marine-inland-lakes\n",
            "Link: /climate/available-data/monthly-data\n",
            "Link: https://www.met.ie/forecasts/storm-names\n",
            "Link: https://www.gov.ie/en/campaigns/aa78b9-be-winter-ready/\n",
            "Link: #top\n",
            "Link: None\n",
            "Link: https://www.met.ie/about-us/cookie-information-notice\n",
            "Link: /ga/\n",
            "Link: https://www.met.ie/about-us/contact-us\n",
            "Link: https://www.met.ie/about-us/privacy\n",
            "Link: https://www.met.ie/about-us/faq\n",
            "Link: https://www.met.ie/about-us/copyright-notice\n",
            "Link: https://www.met.ie/accessibility\n",
            "Link: https://www.met.ie\n",
            "Link: https://www.housing.gov.ie/\n",
            "Link: https://www.met.ie/forecasts/worldweather\n",
            "Link: https://twitter.com/MetEireann\n",
            "Link: https://www.facebook.com/Met-%C3%89ireann-123518233000/\n",
            "Link: https://www.youtube.com/channel/UC67dRUD00xsU-hH93bqIQ_g\n",
            "Link: https://ie.linkedin.com/company/met-ireann\n",
            "Link: https://itunes.apple.com/ie/app/met-éireann-weather-ireland/id592109880\n",
            "Link: https://play.google.com/store/apps/details?id=net.fusio.meteireann&hl=en_IE\n",
            "Link: https://wow.met.ie\n"
          ]
        }
      ]
    },
    {
      "cell_type": "markdown",
      "source": [
        "17. Write a Python script that extracts and prints all headings (h1, h2, and h3 tags)\n",
        "from the given webpage in question 16 above."
      ],
      "metadata": {
        "id": "NHXOcLw3y1mU"
      }
    },
    {
      "cell_type": "code",
      "source": [
        "try:\n",
        "    response = requests.get(url)\n",
        "    soup = BeautifulSoup(response.content, \"html.parser\")\n",
        "    for tag in [\"h1\", \"h2\", \"h3\"]:\n",
        "        headings = soup.find_all(tag)\n",
        "        for heading in headings:\n",
        "            print(f\"{tag}:\", heading.get_text(strip=True))\n",
        "except Exception as e:\n",
        "    print(\"Error scraping headings:\", e)"
      ],
      "metadata": {
        "id": "ppAWUVX25kZ-",
        "colab": {
          "base_uri": "https://localhost:8080/"
        },
        "outputId": "f6c4de5e-043b-49c8-a465-269ed324f8ee"
      },
      "execution_count": 44,
      "outputs": [
        {
          "output_type": "stream",
          "name": "stdout",
          "text": [
            "h2: National Forecast\n",
            "h2: Met News\n",
            "h2: Search\n",
            "h2: Connect\n",
            "h2: Download our apps\n",
            "h3: Climate Statement for January 2025\n",
            "h3: Ballinrobe Students Scoop Met Éireann Award at BTYSTE\n",
            "h3: Second AMOC Research Meeting to take place in Dublin\n",
            "h3: Annual Climate Statement for 2024\n",
            "h3: Agriculture\n",
            "h3: Marine\n",
            "h3: Monthly Reports\n",
            "h3: Storm Names\n",
            "h3: Be Winter Ready\n"
          ]
        }
      ]
    },
    {
      "cell_type": "markdown",
      "source": [
        "18. Write a Python script that scrapes a table from the webpage in question 16\n",
        "above and stores the data in a CSV file."
      ],
      "metadata": {
        "id": "fDzhJhgky1jl"
      }
    },
    {
      "cell_type": "code",
      "source": [
        "try:\n",
        "    response = requests.get(url)\n",
        "    soup = BeautifulSoup(response.content, \"html.parser\")\n",
        "    table = soup.find(\"table\")\n",
        "    if table:\n",
        "        rows = table.find_all(\"tr\")\n",
        "        with open(\"table_data.csv\", \"w\", newline=\"\") as csvfile:\n",
        "            writer = csv.writer(csvfile)\n",
        "            for row in rows:\n",
        "                cols = row.find_all([\"th\", \"td\"])\n",
        "                cols_text = [col.get_text(strip=True) for col in cols]\n",
        "                writer.writerow(cols_text)\n",
        "        print(\"Table data has been written to table_data.csv\")\n",
        "    else:\n",
        "        print(\"No table found on the webpage.\")\n",
        "except Exception as e:\n",
        "    print(\"Error scraping table:\", e)"
      ],
      "metadata": {
        "colab": {
          "base_uri": "https://localhost:8080/"
        },
        "id": "OdQcTVLjOX0j",
        "outputId": "92fbe137-f84b-4a3f-9439-656a5c1d9c47"
      },
      "execution_count": 45,
      "outputs": [
        {
          "output_type": "stream",
          "name": "stdout",
          "text": [
            "No table found on the webpage.\n"
          ]
        }
      ]
    }
  ]
}